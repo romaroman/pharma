{
 "cells": [
  {
   "cell_type": "code",
   "execution_count": 1,
   "metadata": {},
   "outputs": [],
   "source": [
    "import glob\n",
    "from pathlib import Path\n",
    "import json\n",
    "\n",
    "from pandas_profiling import ProfileReport\n",
    "import pandas as pd\n",
    "import seaborn as sns\n",
    "import matplotlib.pyplot as plt\n",
    "import matplotlib as mpl\n",
    "import numpy as np\n",
    "import cv2 as cv"
   ]
  },
  {
   "cell_type": "code",
   "execution_count": 2,
   "metadata": {},
   "outputs": [
    {
     "name": "stdout",
     "output_type": "stream",
     "text": [
      "success    53925\n",
      "fail          75\n",
      "Name: ses_status, dtype: int64\n"
     ]
    },
    {
     "name": "stderr",
     "output_type": "stream",
     "text": [
      "/opt/anaconda3/envs/pharma/lib/python3.8/site-packages/IPython/core/interactiveshell.py:3145: DtypeWarning: Columns (315,316) have mixed types.Specify dtype option on import or set low_memory=False.\n",
      "  has_raised = await self.run_ast_nodes(code_ast.body, cell_name,\n"
     ]
    }
   ],
   "source": [
    "df = pd.read_csv('/home/rchaban/session_test.csv', index_col=None)\n",
    "print(df['ses_status'].value_counts())\n",
    "# df = df[df['ses_status'] == 'success']"
   ]
  },
  {
   "cell_type": "code",
   "execution_count": null,
   "metadata": {},
   "outputs": [],
   "source": [
    "df_failed = df[df['ses_status'] == 'fail']"
   ]
  },
  {
   "cell_type": "code",
   "execution_count": null,
   "metadata": {},
   "outputs": [],
   "source": [
    "import shutil\n",
    "for file in df_failed.fi_filename.tolist():\n",
    "    shutil.copy(f'/data/500gb/pharmapack/Enrollment/cropped/{file}.png', f'/data/500gb/pharmapack/Enrollment/not_processed/{file}.png')"
   ]
  },
  {
   "cell_type": "code",
   "execution_count": null,
   "metadata": {},
   "outputs": [],
   "source": [
    "df_failed.ses_trcbk.value_counts()"
   ]
  },
  {
   "cell_type": "code",
   "execution_count": null,
   "metadata": {},
   "outputs": [],
   "source": [
    "df_failed.fi_filename.tolist()"
   ]
  },
  {
   "cell_type": "code",
   "execution_count": null,
   "metadata": {},
   "outputs": [],
   "source": [
    "#df_min_IOU = df.groupby('fi_package_class').median().sort_values(by=['er_MIN_IOU']).reset_index()[['fi_package_class', 'er_MIN_IOU']]\n",
    "sns.displot(x=df.groupby('fi_package_class').median().sort_values(by=['er_MIN_IOU']).reset_index().er_MIN_IOU.to_numpy(), \n",
    "            binwidth=0.05, height=10, facet_kws=dict(margin_titles=True))"
   ]
  },
  {
   "cell_type": "code",
   "execution_count": null,
   "metadata": {},
   "outputs": [],
   "source": [
    "# sns.displot(data=df_min_IOU, x='fi_package_class', y='er_MIN_IOU')\n",
    "sns.displot(x=df_min_IOU.er_MIN_IOU.to_numpy(), binwidth=0.05, height=10, facet_kws=dict(margin_titles=True))"
   ]
  },
  {
   "cell_type": "code",
   "execution_count": null,
   "metadata": {},
   "outputs": [],
   "source": [
    "algorithm = 'MSER'\n",
    "mode = 'TXT'\n",
    "metric = 'PRC'\n",
    "arr = df[f'er_{algorithm}_{mode}_{metric}'].to_numpy()\n",
    "arr = arr[arr < 1.0]\n",
    "sns.displot(x=arr, binwidth=0.05, height=10, facet_kws=dict(margin_titles=True))"
   ]
  },
  {
   "cell_type": "code",
   "execution_count": null,
   "metadata": {},
   "outputs": [],
   "source": [
    "df_copy = df.copy(deep=True)\n",
    "cols = df.columns\n",
    "for col in cols:\n",
    "    if col.find('ALL') != -1:\n",
    "        df_copy[col.replace('ALL', 'DIFF')] = df_copy[col] - df_copy[col.replace('ALL', 'TXT')]\n",
    "        \n",
    "df_copy"
   ]
  },
  {
   "cell_type": "code",
   "execution_count": null,
   "metadata": {},
   "outputs": [],
   "source": [
    "df_mean = df_copy.groupby('fi_package_class').mean().reset_index()\n",
    "df_median = df_copy.groupby('fi_package_class').median().reset_index()\n",
    "df_std = df_copy.groupby('fi_package_class').std().reset_index()\n",
    "df_var = df_copy.groupby('fi_package_class').var().reset_index()"
   ]
  },
  {
   "cell_type": "code",
   "execution_count": null,
   "metadata": {},
   "outputs": [],
   "source": [
    "sns.displot(x=df_var['er_MSER_DIFF_IOU'], binwidth=0.01, height=10, facet_kws=dict(margin_titles=True))"
   ]
  },
  {
   "cell_type": "code",
   "execution_count": null,
   "metadata": {},
   "outputs": [],
   "source": []
  },
  {
   "cell_type": "code",
   "execution_count": 3,
   "metadata": {},
   "outputs": [],
   "source": [
    "df_SVM = df[df['ses_status'] == 'success']\n",
    "# df_SVM = df_SVM.sample(frac=0.5)\n",
    "df_SVM = df.drop(columns=df.columns[df.isna().all()].tolist())\n",
    "df_CLASS = df_SVM['fi_package_class']\n",
    "# df_SVM = df_SVM.rename(columns={'fi_package_class': 'er_package_class'})\n",
    "df_SVM = df_SVM[df_SVM.columns[pd.Series(df_SVM.columns).str.startswith('er')]]\n",
    "df_SVM = df_SVM.fillna(df.mean())"
   ]
  },
  {
   "cell_type": "code",
   "execution_count": 4,
   "metadata": {},
   "outputs": [
    {
     "data": {
      "text/html": [
       "<div>\n",
       "<style scoped>\n",
       "    .dataframe tbody tr th:only-of-type {\n",
       "        vertical-align: middle;\n",
       "    }\n",
       "\n",
       "    .dataframe tbody tr th {\n",
       "        vertical-align: top;\n",
       "    }\n",
       "\n",
       "    .dataframe thead th {\n",
       "        text-align: right;\n",
       "    }\n",
       "</style>\n",
       "<table border=\"1\" class=\"dataframe\">\n",
       "  <thead>\n",
       "    <tr style=\"text-align: right;\">\n",
       "      <th></th>\n",
       "      <th>er_LS_ALL_ACC</th>\n",
       "      <th>er_LS_ALL_FN</th>\n",
       "      <th>er_LS_ALL_FP</th>\n",
       "      <th>er_LS_ALL_IOU</th>\n",
       "      <th>er_LS_ALL_PRC</th>\n",
       "      <th>er_LS_ALL_R</th>\n",
       "      <th>er_LS_ALL_SNS</th>\n",
       "      <th>er_LS_ALL_SPC</th>\n",
       "      <th>er_LS_ALL_TN</th>\n",
       "      <th>er_LS_ALL_TP</th>\n",
       "      <th>...</th>\n",
       "      <th>er_MSER_ALL_TP</th>\n",
       "      <th>er_MSER_TXT_ACC</th>\n",
       "      <th>er_MSER_TXT_FN</th>\n",
       "      <th>er_MSER_TXT_FP</th>\n",
       "      <th>er_MSER_TXT_IOU</th>\n",
       "      <th>er_MSER_TXT_PRC</th>\n",
       "      <th>er_MSER_TXT_SNS</th>\n",
       "      <th>er_MSER_TXT_SPC</th>\n",
       "      <th>er_MSER_TXT_TN</th>\n",
       "      <th>er_MSER_TXT_TP</th>\n",
       "    </tr>\n",
       "  </thead>\n",
       "  <tbody>\n",
       "  </tbody>\n",
       "</table>\n",
       "<p>0 rows × 290 columns</p>\n",
       "</div>"
      ],
      "text/plain": [
       "Empty DataFrame\n",
       "Columns: [er_LS_ALL_ACC, er_LS_ALL_FN, er_LS_ALL_FP, er_LS_ALL_IOU, er_LS_ALL_PRC, er_LS_ALL_R, er_LS_ALL_SNS, er_LS_ALL_SPC, er_LS_ALL_TN, er_LS_ALL_TP, er_LS_TXT_ACC, er_LS_TXT_FN, er_LS_TXT_FP, er_LS_TXT_IOU, er_LS_TXT_PRC, er_LS_TXT_SNS, er_LS_TXT_SPC, er_LS_TXT_TN, er_LS_TXT_TP, er_MI0+LS+MSER_ALL_ACC, er_MI0+LS+MSER_ALL_FN, er_MI0+LS+MSER_ALL_FP, er_MI0+LS+MSER_ALL_IOU, er_MI0+LS+MSER_ALL_PRC, er_MI0+LS+MSER_ALL_R, er_MI0+LS+MSER_ALL_SNS, er_MI0+LS+MSER_ALL_SPC, er_MI0+LS+MSER_ALL_TN, er_MI0+LS+MSER_ALL_TP, er_MI0+LS+MSER_TXT_ACC, er_MI0+LS+MSER_TXT_FN, er_MI0+LS+MSER_TXT_FP, er_MI0+LS+MSER_TXT_IOU, er_MI0+LS+MSER_TXT_PRC, er_MI0+LS+MSER_TXT_SNS, er_MI0+LS+MSER_TXT_SPC, er_MI0+LS+MSER_TXT_TN, er_MI0+LS+MSER_TXT_TP, er_MI0+MI1+LS_ALL_ACC, er_MI0+MI1+LS_ALL_FN, er_MI0+MI1+LS_ALL_FP, er_MI0+MI1+LS_ALL_IOU, er_MI0+MI1+LS_ALL_PRC, er_MI0+MI1+LS_ALL_R, er_MI0+MI1+LS_ALL_SNS, er_MI0+MI1+LS_ALL_SPC, er_MI0+MI1+LS_ALL_TN, er_MI0+MI1+LS_ALL_TP, er_MI0+MI1+LS_TXT_ACC, er_MI0+MI1+LS_TXT_FN, er_MI0+MI1+LS_TXT_FP, er_MI0+MI1+LS_TXT_IOU, er_MI0+MI1+LS_TXT_PRC, er_MI0+MI1+LS_TXT_SNS, er_MI0+MI1+LS_TXT_SPC, er_MI0+MI1+LS_TXT_TN, er_MI0+MI1+LS_TXT_TP, er_MI0+MI1+MI2_ALL_ACC, er_MI0+MI1+MI2_ALL_FN, er_MI0+MI1+MI2_ALL_FP, er_MI0+MI1+MI2_ALL_IOU, er_MI0+MI1+MI2_ALL_PRC, er_MI0+MI1+MI2_ALL_R, er_MI0+MI1+MI2_ALL_SNS, er_MI0+MI1+MI2_ALL_SPC, er_MI0+MI1+MI2_ALL_TN, er_MI0+MI1+MI2_ALL_TP, er_MI0+MI1+MI2_TXT_ACC, er_MI0+MI1+MI2_TXT_FN, er_MI0+MI1+MI2_TXT_FP, er_MI0+MI1+MI2_TXT_IOU, er_MI0+MI1+MI2_TXT_PRC, er_MI0+MI1+MI2_TXT_SNS, er_MI0+MI1+MI2_TXT_SPC, er_MI0+MI1+MI2_TXT_TN, er_MI0+MI1+MI2_TXT_TP, er_MI0+MI1+MSER_ALL_ACC, er_MI0+MI1+MSER_ALL_FN, er_MI0+MI1+MSER_ALL_FP, er_MI0+MI1+MSER_ALL_IOU, er_MI0+MI1+MSER_ALL_PRC, er_MI0+MI1+MSER_ALL_R, er_MI0+MI1+MSER_ALL_SNS, er_MI0+MI1+MSER_ALL_SPC, er_MI0+MI1+MSER_ALL_TN, er_MI0+MI1+MSER_ALL_TP, er_MI0+MI1+MSER_TXT_ACC, er_MI0+MI1+MSER_TXT_FN, er_MI0+MI1+MSER_TXT_FP, er_MI0+MI1+MSER_TXT_IOU, er_MI0+MI1+MSER_TXT_PRC, er_MI0+MI1+MSER_TXT_SNS, er_MI0+MI1+MSER_TXT_SPC, er_MI0+MI1+MSER_TXT_TN, er_MI0+MI1+MSER_TXT_TP, er_MI0+MI2+LS_ALL_ACC, er_MI0+MI2+LS_ALL_FN, er_MI0+MI2+LS_ALL_FP, er_MI0+MI2+LS_ALL_IOU, er_MI0+MI2+LS_ALL_PRC, ...]\n",
       "Index: []\n",
       "\n",
       "[0 rows x 290 columns]"
      ]
     },
     "execution_count": 4,
     "metadata": {},
     "output_type": "execute_result"
    }
   ],
   "source": [
    "df_SVM[df_SVM.isna().any(axis=1)]"
   ]
  },
  {
   "cell_type": "code",
   "execution_count": 5,
   "metadata": {},
   "outputs": [],
   "source": [
    "from sklearn.pipeline import make_pipeline\n",
    "from sklearn.preprocessing import StandardScaler\n",
    "from sklearn.model_selection import train_test_split\n",
    "from sklearn.svm import SVC\n",
    "from sklearn import metrics"
   ]
  },
  {
   "cell_type": "code",
   "execution_count": 6,
   "metadata": {},
   "outputs": [],
   "source": [
    "X = df_SVM.to_numpy()\n",
    "y = df_CLASS.to_numpy()"
   ]
  },
  {
   "cell_type": "code",
   "execution_count": 7,
   "metadata": {},
   "outputs": [],
   "source": [
    "X_train, X_test, y_train, y_test = train_test_split(X, y, test_size=0.1, random_state=42)"
   ]
  },
  {
   "cell_type": "code",
   "execution_count": 8,
   "metadata": {},
   "outputs": [
    {
     "data": {
      "text/plain": [
       "(48600,)"
      ]
     },
     "execution_count": 8,
     "metadata": {},
     "output_type": "execute_result"
    }
   ],
   "source": [
    "y_train.shape"
   ]
  },
  {
   "cell_type": "code",
   "execution_count": null,
   "metadata": {},
   "outputs": [],
   "source": [
    "clf = make_pipeline(StandardScaler(), SVC(gamma='auto'))\n",
    "clf.fit(X_train, y_train)"
   ]
  },
  {
   "cell_type": "code",
   "execution_count": null,
   "metadata": {},
   "outputs": [],
   "source": [
    "clf.score(X_test, y_test)"
   ]
  },
  {
   "cell_type": "code",
   "execution_count": null,
   "metadata": {},
   "outputs": [],
   "source": [
    "y_pred = clf.predict(X_test)"
   ]
  },
  {
   "cell_type": "code",
   "execution_count": null,
   "metadata": {},
   "outputs": [],
   "source": [
    "np.mean(y_pred == y_test)"
   ]
  },
  {
   "cell_type": "code",
   "execution_count": null,
   "metadata": {},
   "outputs": [],
   "source": [
    "fpr, tpr, thresholds = metrics.roc_curve(y_test, y_pred, pos_label=2)"
   ]
  },
  {
   "cell_type": "code",
   "execution_count": null,
   "metadata": {},
   "outputs": [],
   "source": [
    "probs = clf.predict_proba(X_test)"
   ]
  },
  {
   "cell_type": "code",
   "execution_count": null,
   "metadata": {},
   "outputs": [],
   "source": [
    "clf_prob = make_pipeline(StandardScaler(), SVC(gamma='auto', probability=True))\n",
    "clf_prob.fit(X_train, y_train)"
   ]
  },
  {
   "cell_type": "code",
   "execution_count": null,
   "metadata": {},
   "outputs": [],
   "source": [
    "probs = clf_prob.predict_proba(X_test)\n",
    "preds = probs[:,1]\n",
    "fpr, tpr, threshold = metrics.roc_curve(y_test, preds)\n",
    "roc_auc = metrics.auc(fpr, tpr)"
   ]
  },
  {
   "cell_type": "code",
   "execution_count": null,
   "metadata": {},
   "outputs": [],
   "source": [
    "from itertools import cycle\n",
    "colors = ['aqua', 'darkorange', 'cornflowerblue']\n",
    "i = 1\n",
    "plt.plot(fpr[i], tpr[i], color=colors[0], lw=lw,\n",
    "             label='ROC curve of class {0} (area = {1:0.2f})'\n",
    "             ''.format(i, roc_auc[i]))\n",
    "\n",
    "plt.plot([0, 1], [0, 1], 'k--', lw=lw)\n",
    "plt.xlim([0.0, 1.0])\n",
    "plt.ylim([0.0, 1.05])\n",
    "plt.xlabel('False Positive Rate')\n",
    "plt.ylabel('True Positive Rate')\n",
    "plt.title('Some extension of Receiver operating characteristic to multi-class')\n",
    "plt.legend(loc=\"lower right\")\n",
    "plt.show()\n"
   ]
  },
  {
   "cell_type": "code",
   "execution_count": null,
   "metadata": {},
   "outputs": [],
   "source": [
    "len(fpr)"
   ]
  },
  {
   "cell_type": "code",
   "execution_count": null,
   "metadata": {},
   "outputs": [],
   "source": []
  }
 ],
 "metadata": {
  "kernelspec": {
   "display_name": "Python 3",
   "language": "python",
   "name": "python3"
  },
  "language_info": {
   "codemirror_mode": {
    "name": "ipython",
    "version": 3
   },
   "file_extension": ".py",
   "mimetype": "text/x-python",
   "name": "python",
   "nbconvert_exporter": "python",
   "pygments_lexer": "ipython3",
   "version": "3.8.5"
  }
 },
 "nbformat": 4,
 "nbformat_minor": 4
}
