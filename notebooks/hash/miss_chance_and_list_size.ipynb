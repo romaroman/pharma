{
 "cells": [
  {
   "cell_type": "code",
   "execution_count": 1,
   "metadata": {},
   "outputs": [],
   "source": [
    "import pandas as pd\n",
    "import matplotlib.pyplot as plt\n",
    "import numpy as np\n",
    "from pathlib import Path\n",
    "from scipy.stats import mode\n",
    "from tqdm.notebook import tqdm\n",
    "from p_tqdm import p_map\n",
    "\n",
    "%matplotlib inline\n",
    "%load_ext autoreload\n",
    "%autoreload 2"
   ]
  },
  {
   "cell_type": "code",
   "execution_count": 2,
   "metadata": {},
   "outputs": [],
   "source": [
    "df_combined = pd.read_csv('../../search_results/LOPQ+Both+resnet18+256+20.csv', index_col=None)"
   ]
  },
  {
   "cell_type": "code",
   "execution_count": 5,
   "metadata": {},
   "outputs": [
    {
     "data": {
      "text/plain": [
       "9"
      ]
     },
     "execution_count": 5,
     "metadata": {},
     "output_type": "execute_result"
    }
   ],
   "source": [
    "excluded_classes = ['0235_D01_S001', '0200_D01_S001', '0049_D01_S001', '0842_D01_S001', '0337_D01_S001', '0263_D01_S001', '0735_D01_S001', '0541_D01_S001', '0311_D01_S001']\n",
    "len(excluded_classes)"
   ]
  },
  {
   "cell_type": "code",
   "execution_count": 6,
   "metadata": {},
   "outputs": [
    {
     "data": {
      "text/html": [
       "<div>\n",
       "<style scoped>\n",
       "    .dataframe tbody tr th:only-of-type {\n",
       "        vertical-align: middle;\n",
       "    }\n",
       "\n",
       "    .dataframe tbody tr th {\n",
       "        vertical-align: top;\n",
       "    }\n",
       "\n",
       "    .dataframe thead th {\n",
       "        text-align: right;\n",
       "    }\n",
       "</style>\n",
       "<table border=\"1\" class=\"dataframe\">\n",
       "  <thead>\n",
       "    <tr style=\"text-align: right;\">\n",
       "      <th></th>\n",
       "      <th>distance</th>\n",
       "      <th>uuid_actual</th>\n",
       "      <th>uuid_predicted</th>\n",
       "      <th>sample_actual</th>\n",
       "      <th>package_actual</th>\n",
       "      <th>descriptor_actual</th>\n",
       "      <th>package_predicted</th>\n",
       "      <th>algorithm</th>\n",
       "      <th>match</th>\n",
       "    </tr>\n",
       "  </thead>\n",
       "  <tbody>\n",
       "    <tr>\n",
       "      <th>29165421</th>\n",
       "      <td>13.087810</td>\n",
       "      <td>PFP_Ph3_P0246_D01_S001_C2_az220_side1_0025</td>\n",
       "      <td>PFP_Ph3_P0880_D01_S001_C2_az360_side1_0008</td>\n",
       "      <td>Ph3_P0246_D01_S001_C2_az220</td>\n",
       "      <td>0246_D01_S001</td>\n",
       "      <td>25</td>\n",
       "      <td>0880_D01_S001</td>\n",
       "      <td>MI1</td>\n",
       "      <td>False</td>\n",
       "    </tr>\n",
       "    <tr>\n",
       "      <th>32560415</th>\n",
       "      <td>16.199186</td>\n",
       "      <td>PFP_Ph3_P0839_D01_S001_C4_az240_side1_0025</td>\n",
       "      <td>PFP_Ph3_P0839_D01_S001_C4_az360_side1_0014</td>\n",
       "      <td>Ph3_P0839_D01_S001_C4_az240</td>\n",
       "      <td>0839_D01_S001</td>\n",
       "      <td>25</td>\n",
       "      <td>0839_D01_S001</td>\n",
       "      <td>MI1</td>\n",
       "      <td>True</td>\n",
       "    </tr>\n",
       "    <tr>\n",
       "      <th>6812799</th>\n",
       "      <td>5.488522</td>\n",
       "      <td>PFP_Ph3_P0803_D01_S001_C2_az020_side1_0025</td>\n",
       "      <td>PFP_Ph3_P0401_D01_S001_C3_az360_side1_0003</td>\n",
       "      <td>Ph3_P0803_D01_S001_C2_az020</td>\n",
       "      <td>0803_D01_S001</td>\n",
       "      <td>25</td>\n",
       "      <td>0401_D01_S001</td>\n",
       "      <td>MSER</td>\n",
       "      <td>False</td>\n",
       "    </tr>\n",
       "    <tr>\n",
       "      <th>15924656</th>\n",
       "      <td>10.714216</td>\n",
       "      <td>PFP_Ph3_P0166_D01_S001_C2_az080_side1_0012</td>\n",
       "      <td>PFP_Ph1_P0037_D01_S004_C2_az360_side1_0006</td>\n",
       "      <td>Ph3_P0166_D01_S001_C2_az080</td>\n",
       "      <td>0166_D01_S001</td>\n",
       "      <td>12</td>\n",
       "      <td>0037_D01_S004</td>\n",
       "      <td>MSER</td>\n",
       "      <td>False</td>\n",
       "    </tr>\n",
       "    <tr>\n",
       "      <th>2202016</th>\n",
       "      <td>10.231207</td>\n",
       "      <td>PFP_Ph3_P0364_D01_S001_C4_az280_side1_0020</td>\n",
       "      <td>PFP_Ph1_P0629_D01_S001_C1_az360_side1_0006</td>\n",
       "      <td>Ph3_P0364_D01_S001_C4_az280</td>\n",
       "      <td>0364_D01_S001</td>\n",
       "      <td>20</td>\n",
       "      <td>0629_D01_S001</td>\n",
       "      <td>MSER</td>\n",
       "      <td>False</td>\n",
       "    </tr>\n",
       "    <tr>\n",
       "      <th>322799</th>\n",
       "      <td>10.498666</td>\n",
       "      <td>PFP_Ph2_P0503_D01_S001_C3_az220_side1_0001</td>\n",
       "      <td>PFP_Ph3_P0745_D01_S001_C2_az360_side1_0001</td>\n",
       "      <td>Ph2_P0503_D01_S001_C3_az220</td>\n",
       "      <td>0503_D01_S001</td>\n",
       "      <td>1</td>\n",
       "      <td>0745_D01_S001</td>\n",
       "      <td>MSER</td>\n",
       "      <td>False</td>\n",
       "    </tr>\n",
       "    <tr>\n",
       "      <th>32754206</th>\n",
       "      <td>13.442729</td>\n",
       "      <td>PFP_Ph1_P0807_D01_S001_C3_az060_side1_0001</td>\n",
       "      <td>PFP_Ph1_P0475_D01_S002_C1_az360_side1_0001</td>\n",
       "      <td>Ph1_P0807_D01_S001_C3_az060</td>\n",
       "      <td>0807_D01_S001</td>\n",
       "      <td>1</td>\n",
       "      <td>0475_D01_S002</td>\n",
       "      <td>MI1</td>\n",
       "      <td>False</td>\n",
       "    </tr>\n",
       "    <tr>\n",
       "      <th>10883104</th>\n",
       "      <td>0.297478</td>\n",
       "      <td>PFP_Ph2_P0021_D01_S001_C3_az020_side1_0005</td>\n",
       "      <td>PFP_Ph3_P0604_D01_S001_C1_az360_side1_0004</td>\n",
       "      <td>Ph2_P0021_D01_S001_C3_az020</td>\n",
       "      <td>0021_D01_S001</td>\n",
       "      <td>5</td>\n",
       "      <td>0604_D01_S001</td>\n",
       "      <td>MSER</td>\n",
       "      <td>False</td>\n",
       "    </tr>\n",
       "    <tr>\n",
       "      <th>9893925</th>\n",
       "      <td>0.671331</td>\n",
       "      <td>PFP_Ph2_P0764_D01_S001_C2_az020_side1_0006</td>\n",
       "      <td>PFP_Ph1_P0568_D01_S001_C1_az360_side1_0001</td>\n",
       "      <td>Ph2_P0764_D01_S001_C2_az020</td>\n",
       "      <td>0764_D01_S001</td>\n",
       "      <td>6</td>\n",
       "      <td>0568_D01_S001</td>\n",
       "      <td>MSER</td>\n",
       "      <td>False</td>\n",
       "    </tr>\n",
       "    <tr>\n",
       "      <th>32421023</th>\n",
       "      <td>10.878998</td>\n",
       "      <td>PFP_Ph3_P0765_D01_S001_C2_az220_side1_0008</td>\n",
       "      <td>PFP_Ph3_P0473_D01_S001_C3_az360_side1_0001</td>\n",
       "      <td>Ph3_P0765_D01_S001_C2_az220</td>\n",
       "      <td>0765_D01_S001</td>\n",
       "      <td>8</td>\n",
       "      <td>0473_D01_S001</td>\n",
       "      <td>MI1</td>\n",
       "      <td>False</td>\n",
       "    </tr>\n",
       "  </tbody>\n",
       "</table>\n",
       "</div>"
      ],
      "text/plain": [
       "           distance                                 uuid_actual  \\\n",
       "29165421  13.087810  PFP_Ph3_P0246_D01_S001_C2_az220_side1_0025   \n",
       "32560415  16.199186  PFP_Ph3_P0839_D01_S001_C4_az240_side1_0025   \n",
       "6812799    5.488522  PFP_Ph3_P0803_D01_S001_C2_az020_side1_0025   \n",
       "15924656  10.714216  PFP_Ph3_P0166_D01_S001_C2_az080_side1_0012   \n",
       "2202016   10.231207  PFP_Ph3_P0364_D01_S001_C4_az280_side1_0020   \n",
       "322799    10.498666  PFP_Ph2_P0503_D01_S001_C3_az220_side1_0001   \n",
       "32754206  13.442729  PFP_Ph1_P0807_D01_S001_C3_az060_side1_0001   \n",
       "10883104   0.297478  PFP_Ph2_P0021_D01_S001_C3_az020_side1_0005   \n",
       "9893925    0.671331  PFP_Ph2_P0764_D01_S001_C2_az020_side1_0006   \n",
       "32421023  10.878998  PFP_Ph3_P0765_D01_S001_C2_az220_side1_0008   \n",
       "\n",
       "                                      uuid_predicted  \\\n",
       "29165421  PFP_Ph3_P0880_D01_S001_C2_az360_side1_0008   \n",
       "32560415  PFP_Ph3_P0839_D01_S001_C4_az360_side1_0014   \n",
       "6812799   PFP_Ph3_P0401_D01_S001_C3_az360_side1_0003   \n",
       "15924656  PFP_Ph1_P0037_D01_S004_C2_az360_side1_0006   \n",
       "2202016   PFP_Ph1_P0629_D01_S001_C1_az360_side1_0006   \n",
       "322799    PFP_Ph3_P0745_D01_S001_C2_az360_side1_0001   \n",
       "32754206  PFP_Ph1_P0475_D01_S002_C1_az360_side1_0001   \n",
       "10883104  PFP_Ph3_P0604_D01_S001_C1_az360_side1_0004   \n",
       "9893925   PFP_Ph1_P0568_D01_S001_C1_az360_side1_0001   \n",
       "32421023  PFP_Ph3_P0473_D01_S001_C3_az360_side1_0001   \n",
       "\n",
       "                        sample_actual package_actual  descriptor_actual  \\\n",
       "29165421  Ph3_P0246_D01_S001_C2_az220  0246_D01_S001                 25   \n",
       "32560415  Ph3_P0839_D01_S001_C4_az240  0839_D01_S001                 25   \n",
       "6812799   Ph3_P0803_D01_S001_C2_az020  0803_D01_S001                 25   \n",
       "15924656  Ph3_P0166_D01_S001_C2_az080  0166_D01_S001                 12   \n",
       "2202016   Ph3_P0364_D01_S001_C4_az280  0364_D01_S001                 20   \n",
       "322799    Ph2_P0503_D01_S001_C3_az220  0503_D01_S001                  1   \n",
       "32754206  Ph1_P0807_D01_S001_C3_az060  0807_D01_S001                  1   \n",
       "10883104  Ph2_P0021_D01_S001_C3_az020  0021_D01_S001                  5   \n",
       "9893925   Ph2_P0764_D01_S001_C2_az020  0764_D01_S001                  6   \n",
       "32421023  Ph3_P0765_D01_S001_C2_az220  0765_D01_S001                  8   \n",
       "\n",
       "         package_predicted algorithm  match  \n",
       "29165421     0880_D01_S001       MI1  False  \n",
       "32560415     0839_D01_S001       MI1   True  \n",
       "6812799      0401_D01_S001      MSER  False  \n",
       "15924656     0037_D01_S004      MSER  False  \n",
       "2202016      0629_D01_S001      MSER  False  \n",
       "322799       0745_D01_S001      MSER  False  \n",
       "32754206     0475_D01_S002       MI1  False  \n",
       "10883104     0604_D01_S001      MSER  False  \n",
       "9893925      0568_D01_S001      MSER  False  \n",
       "32421023     0473_D01_S001       MI1  False  "
      ]
     },
     "execution_count": 6,
     "metadata": {},
     "output_type": "execute_result"
    }
   ],
   "source": [
    "df_combined.sample(10)"
   ]
  },
  {
   "cell_type": "code",
   "execution_count": 7,
   "metadata": {},
   "outputs": [
    {
     "data": {
      "text/plain": [
       "989"
      ]
     },
     "execution_count": 7,
     "metadata": {},
     "output_type": "execute_result"
    }
   ],
   "source": [
    "df_combined = df_combined[~df_combined.package_actual.isin(excluded_classes)]\n",
    "df_combined.package_actual.nunique()"
   ]
  },
  {
   "cell_type": "code",
   "execution_count": 8,
   "metadata": {},
   "outputs": [],
   "source": [
    "df_agg = df_combined.sort_values(['distance'],ascending=True).groupby(['uuid_actual', 'algorithm'])"
   ]
  },
  {
   "cell_type": "code",
   "execution_count": 9,
   "metadata": {},
   "outputs": [],
   "source": [
    "total_amount = df_combined.sample_actual.nunique()"
   ]
  },
  {
   "cell_type": "code",
   "execution_count": 10,
   "metadata": {},
   "outputs": [],
   "source": [
    "algs = ['MSER', 'MI1', 'Both']\n",
    "df_plot = pd.DataFrame(\n",
    "    columns=pd.MultiIndex.from_product([algs, ['list_size', 'miss_prob']], names=['algorithm', 'neighbours'])\n",
    ")"
   ]
  },
  {
   "cell_type": "code",
   "execution_count": 11,
   "metadata": {},
   "outputs": [
    {
     "data": {
      "text/html": [
       "<div>\n",
       "<style scoped>\n",
       "    .dataframe tbody tr th:only-of-type {\n",
       "        vertical-align: middle;\n",
       "    }\n",
       "\n",
       "    .dataframe tbody tr th {\n",
       "        vertical-align: top;\n",
       "    }\n",
       "\n",
       "    .dataframe thead tr th {\n",
       "        text-align: left;\n",
       "    }\n",
       "</style>\n",
       "<table border=\"1\" class=\"dataframe\">\n",
       "  <thead>\n",
       "    <tr>\n",
       "      <th>algorithm</th>\n",
       "      <th colspan=\"2\" halign=\"left\">MSER</th>\n",
       "      <th colspan=\"2\" halign=\"left\">MI1</th>\n",
       "      <th colspan=\"2\" halign=\"left\">Both</th>\n",
       "    </tr>\n",
       "    <tr>\n",
       "      <th>neighbours</th>\n",
       "      <th>list_size</th>\n",
       "      <th>miss_prob</th>\n",
       "      <th>list_size</th>\n",
       "      <th>miss_prob</th>\n",
       "      <th>list_size</th>\n",
       "      <th>miss_prob</th>\n",
       "    </tr>\n",
       "  </thead>\n",
       "  <tbody>\n",
       "  </tbody>\n",
       "</table>\n",
       "</div>"
      ],
      "text/plain": [
       "Empty DataFrame\n",
       "Columns: [(MSER, list_size), (MSER, miss_prob), (MI1, list_size), (MI1, miss_prob), (Both, list_size), (Both, miss_prob)]\n",
       "Index: []"
      ]
     },
     "execution_count": 11,
     "metadata": {},
     "output_type": "execute_result"
    }
   ],
   "source": [
    "df_plot"
   ]
  },
  {
   "cell_type": "code",
   "execution_count": 24,
   "metadata": {},
   "outputs": [
    {
     "data": {
      "text/plain": [
       "[0, 2, 4, 6, 8, 10, 12, 14, 16, 18, 20]"
      ]
     },
     "execution_count": 24,
     "metadata": {},
     "output_type": "execute_result"
    }
   ],
   "source": []
  },
  {
   "cell_type": "code",
   "execution_count": 25,
   "metadata": {},
   "outputs": [
    {
     "name": "stdout",
     "output_type": "stream",
     "text": [
      "20 \t MSER\n",
      "20 \t MI1\n",
      "20 \t Both\n"
     ]
    }
   ],
   "source": [
    "for top_n in [20]:\n",
    "    df_head = df_agg.head(top_n)\n",
    "    for alg in algs:\n",
    "        if alg != 'Both':\n",
    "            df_head_alg = df_head[df_head.algorithm == alg]\n",
    "        else:\n",
    "            df_head_alg = df_head\n",
    "        \n",
    "        df_plot.loc[top_n, (alg, 'miss_prob')] = df_head_alg[df_head_alg.package_actual == df_head_alg.package_predicted].sample_actual.nunique() / total_amount\n",
    "        df_plot.loc[top_n, (alg, 'list_size')] = int(df_head_alg.groupby('sample_actual').package_predicted.nunique().mean())\n",
    "        print(top_n, '\\t', alg)"
   ]
  },
  {
   "cell_type": "code",
   "execution_count": 31,
   "metadata": {},
   "outputs": [
    {
     "data": {
      "text/html": [
       "<div>\n",
       "<style scoped>\n",
       "    .dataframe tbody tr th:only-of-type {\n",
       "        vertical-align: middle;\n",
       "    }\n",
       "\n",
       "    .dataframe tbody tr th {\n",
       "        vertical-align: top;\n",
       "    }\n",
       "\n",
       "    .dataframe thead tr th {\n",
       "        text-align: left;\n",
       "    }\n",
       "</style>\n",
       "<table border=\"1\" class=\"dataframe\">\n",
       "  <thead>\n",
       "    <tr>\n",
       "      <th>algorithm</th>\n",
       "      <th>MSER</th>\n",
       "      <th>MI1</th>\n",
       "      <th>Both</th>\n",
       "    </tr>\n",
       "    <tr>\n",
       "      <th>neighbours</th>\n",
       "      <th>miss_prob</th>\n",
       "      <th>miss_prob</th>\n",
       "      <th>miss_prob</th>\n",
       "    </tr>\n",
       "  </thead>\n",
       "  <tbody>\n",
       "    <tr>\n",
       "      <th>1</th>\n",
       "      <td>0.0215311</td>\n",
       "      <td>0.0116272</td>\n",
       "      <td>0.00128751</td>\n",
       "    </tr>\n",
       "    <tr>\n",
       "      <th>3</th>\n",
       "      <td>0.0133109</td>\n",
       "      <td>0.00372388</td>\n",
       "      <td>0.000376349</td>\n",
       "    </tr>\n",
       "    <tr>\n",
       "      <th>5</th>\n",
       "      <td>0.0111716</td>\n",
       "      <td>0.00281272</td>\n",
       "      <td>0.000336734</td>\n",
       "    </tr>\n",
       "    <tr>\n",
       "      <th>7</th>\n",
       "      <td>0.0102407</td>\n",
       "      <td>0.0025156</td>\n",
       "      <td>0.000316926</td>\n",
       "    </tr>\n",
       "    <tr>\n",
       "      <th>9</th>\n",
       "      <td>0.00958701</td>\n",
       "      <td>0.00223829</td>\n",
       "      <td>0.000297118</td>\n",
       "    </tr>\n",
       "    <tr>\n",
       "      <th>11</th>\n",
       "      <td>0.00897296</td>\n",
       "      <td>0.00215906</td>\n",
       "      <td>0.00027731</td>\n",
       "    </tr>\n",
       "    <tr>\n",
       "      <th>13</th>\n",
       "      <td>0.00845796</td>\n",
       "      <td>0.00207983</td>\n",
       "      <td>0.00027731</td>\n",
       "    </tr>\n",
       "    <tr>\n",
       "      <th>15</th>\n",
       "      <td>0.00808161</td>\n",
       "      <td>0.00206002</td>\n",
       "      <td>0.00027731</td>\n",
       "    </tr>\n",
       "    <tr>\n",
       "      <th>17</th>\n",
       "      <td>0.00792315</td>\n",
       "      <td>0.00196098</td>\n",
       "      <td>0.00027731</td>\n",
       "    </tr>\n",
       "    <tr>\n",
       "      <th>19</th>\n",
       "      <td>0.00772507</td>\n",
       "      <td>0.00194117</td>\n",
       "      <td>0.00027731</td>\n",
       "    </tr>\n",
       "    <tr>\n",
       "      <th>20</th>\n",
       "      <td>0.00758641</td>\n",
       "      <td>0.00194117</td>\n",
       "      <td>0.000257502</td>\n",
       "    </tr>\n",
       "  </tbody>\n",
       "</table>\n",
       "</div>"
      ],
      "text/plain": [
       "algorithm         MSER         MI1         Both\n",
       "neighbours   miss_prob   miss_prob    miss_prob\n",
       "1            0.0215311   0.0116272   0.00128751\n",
       "3            0.0133109  0.00372388  0.000376349\n",
       "5            0.0111716  0.00281272  0.000336734\n",
       "7            0.0102407   0.0025156  0.000316926\n",
       "9           0.00958701  0.00223829  0.000297118\n",
       "11          0.00897296  0.00215906   0.00027731\n",
       "13          0.00845796  0.00207983   0.00027731\n",
       "15          0.00808161  0.00206002   0.00027731\n",
       "17          0.00792315  0.00196098   0.00027731\n",
       "19          0.00772507  0.00194117   0.00027731\n",
       "20          0.00758641  0.00194117  0.000257502"
      ]
     },
     "execution_count": 31,
     "metadata": {},
     "output_type": "execute_result"
    }
   ],
   "source": [
    "1 - df_plot.loc[:, (slice(None), 'miss_prob')]"
   ]
  },
  {
   "cell_type": "code",
   "execution_count": 14,
   "metadata": {},
   "outputs": [
    {
     "name": "stderr",
     "output_type": "stream",
     "text": [
      "<ipython-input-14-282583b09f1c>:5: UserWarning: You have mixed positional and keyword arguments, some input may be discarded.\n",
      "  plt.legend([p1, p2, p3], labels=['Both', 'MSER', 'MI1']) #\n"
     ]
    },
    {
     "data": {
      "image/png": "[encoded data removed]",
      "text/plain": [
       "<Figure size 432x288 with 1 Axes>"
      ]
     },
     "metadata": {
      "needs_background": "light"
     },
     "output_type": "display_data"
    }
   ],
   "source": [
    "p1 = plt.plot(df_plot['Both']['list_size'], 'o-', label='Both')\n",
    "p2 = plt.plot(df_plot['MSER']['list_size'], 'o-', color='red', label='MSER')\n",
    "p3 = plt.plot(df_plot['MI1']['list_size'], 'o-', color='orange', label='MI1')\n",
    "\n",
    "plt.legend([p1, p2, p3], labels=['Both', 'MSER', 'MI1']) # \n",
    "\n",
    "plt.xticks(df_plot.index.to_list(), df_plot.index.to_list())\n",
    "plt.xlabel('Neighbours amount')\n",
    "plt.ylabel('List size')\n",
    "plt.savefig('list_size.png')"
   ]
  },
  {
   "cell_type": "code",
   "execution_count": 15,
   "metadata": {},
   "outputs": [
    {
     "name": "stderr",
     "output_type": "stream",
     "text": [
      "<ipython-input-15-38bad73c460d>:5: UserWarning: You have mixed positional and keyword arguments, some input may be discarded.\n",
      "  plt.legend([p1, p2, p3], labels=['Both', 'MSER', 'MI1']) #\n"
     ]
    },
    {
     "data": {
      "image/png": "[encoded data removed]",
      "text/plain": [
       "<Figure size 432x288 with 1 Axes>"
      ]
     },
     "metadata": {
      "needs_background": "light"
     },
     "output_type": "display_data"
    }
   ],
   "source": [
    "p1 = plt.plot(1 - df_plot['Both']['miss_prob'], 'o-', label='Both')\n",
    "p2 = plt.plot(1 - df_plot['MSER']['miss_prob'], 'o-', color='red', label='MSER')\n",
    "p3 = plt.plot(1 - df_plot['MI1']['miss_prob'], 'o-', color='orange', label='MI1')\n",
    "\n",
    "plt.legend([p1, p2, p3], labels=['Both', 'MSER', 'MI1']) # \n",
    "plt.yscale('log')\n",
    "plt.xticks(df_plot.index.to_list(), df_plot.index.to_list())\n",
    "plt.xlabel('Neighbours amount')\n",
    "plt.ylabel('Probability of miss')\n",
    "plt.savefig('miss_prob.png')"
   ]
  },
  {
   "cell_type": "code",
   "execution_count": 27,
   "metadata": {},
   "outputs": [
    {
     "data": {
      "text/plain": [
       "0.0002575022283847206"
      ]
     },
     "execution_count": 27,
     "metadata": {},
     "output_type": "execute_result"
    }
   ],
   "source": [
    "(1 - df_plot['Both']['miss_prob']).min()"
   ]
  },
  {
   "cell_type": "code",
   "execution_count": 33,
   "metadata": {},
   "outputs": [],
   "source": [
    "df_head_ex = df_agg.head(20)"
   ]
  },
  {
   "cell_type": "code",
   "execution_count": null,
   "metadata": {},
   "outputs": [],
   "source": [
    "df_head_ex[df_head_ex.package_actual != df_head_ex.package_predicted]"
   ]
  },
  {
   "cell_type": "code",
   "execution_count": 34,
   "metadata": {},
   "outputs": [],
   "source": [
    "df_pivvv = df_head_ex[['sample_actual', 'package_actual', 'uuid_actual', 'match']].pivot_table(index=['sample_actual', 'package_actual'], columns='match', values='uuid_actual', aggfunc='count', fill_value=0)"
   ]
  },
  {
   "cell_type": "code",
   "execution_count": 49,
   "metadata": {},
   "outputs": [
    {
     "data": {
      "text/plain": [
       "0887_D01_S001    4\n",
       "0279_D01_S001    3\n",
       "0471_D01_S001    3\n",
       "0325_D01_S001    1\n",
       "0498_D01_S001    1\n",
       "0401_D01_S001    1\n",
       "Name: package_actual, dtype: int64"
      ]
     },
     "execution_count": 49,
     "metadata": {},
     "output_type": "execute_result"
    }
   ],
   "source": [
    "df_pivvv[df_pivvv[True] == 0].reset_index().package_actual.value_counts()"
   ]
  },
  {
   "cell_type": "code",
   "execution_count": 30,
   "metadata": {},
   "outputs": [
    {
     "data": {
      "text/plain": [
       "0.994"
      ]
     },
     "execution_count": 30,
     "metadata": {},
     "output_type": "execute_result"
    }
   ],
   "source": [
    "(50000 - 300) / 50000"
   ]
  },
  {
   "cell_type": "code",
   "execution_count": 41,
   "metadata": {},
   "outputs": [],
   "source": [
    "df_pivvv['ratio'] = df_pivvv[True] / df_pivvv[False]"
   ]
  },
  {
   "cell_type": "code",
   "execution_count": 48,
   "metadata": {},
   "outputs": [
    {
     "data": {
      "image/png": "[encoded data removed]",
      "text/plain": [
       "<Figure size 432x288 with 1 Axes>"
      ]
     },
     "metadata": {
      "needs_background": "light"
     },
     "output_type": "display_data"
    }
   ],
   "source": [
    "b = plt.hist(df_pivvv[df_pivvv.ratio < 0.3]['ratio'], bins=1000)"
   ]
  },
  {
   "cell_type": "code",
   "execution_count": null,
   "metadata": {},
   "outputs": [],
   "source": []
  }
 ],
 "metadata": {
  "kernelspec": {
   "display_name": "Python 3",
   "language": "python",
   "name": "python3"
  },
  "language_info": {
   "codemirror_mode": {
    "name": "ipython",
    "version": 3
   },
   "file_extension": ".py",
   "mimetype": "text/x-python",
   "name": "python",
   "nbconvert_exporter": "python",
   "pygments_lexer": "ipython3",
   "version": "3.8.5"
  }
 },
 "nbformat": 4,
 "nbformat_minor": 4
}
