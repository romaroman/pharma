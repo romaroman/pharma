{
 "cells": [
  {
   "cell_type": "code",
   "execution_count": 68,
   "metadata": {},
   "outputs": [
    {
     "name": "stdout",
     "output_type": "stream",
     "text": [
      "The autoreload extension is already loaded. To reload it, use:\n",
      "  %reload_ext autoreload\n"
     ]
    }
   ],
   "source": [
    "import argparse\n",
    "import logging\n",
    "import pickle\n",
    "\n",
    "from itertools import repeat\n",
    "from functools import partial\n",
    "from multiprocessing import Pool\n",
    "from tqdm.notebook import tqdm\n",
    "from redis import Redis\n",
    "from pathlib import Path\n",
    "from typing import List, Union, NoReturn, Tuple\n",
    "\n",
    "import pandas as pd\n",
    "import numpy as np\n",
    "from scipy.spatial.distance import cdist\n",
    "import matplotlib.pyplot as plt\n",
    "from libs.lopq.eval import get_cell_histogram\n",
    "\n",
    "from nearpy import Engine\n",
    "from nearpy.hashes import RandomBinaryProjections, RandomBinaryProjectionTree, LSHash\n",
    "from nearpy.distances import EuclideanDistance\n",
    "from nearpy.storage import RedisStorage\n",
    "from nearpy.filters import NearestFilter\n",
    "\n",
    "from nnmodels.hash.helpers import encode_image_to_uuid, decode_image_from_uuid\n",
    "from libs.lopq import LOPQModel, LOPQSearcherLMDB, LOPQSearcher\n",
    "\n",
    "import utils\n",
    "\n",
    "%matplotlib inline\n",
    "%load_ext autoreload\n",
    "%autoreload 2"
   ]
  },
  {
   "cell_type": "code",
   "execution_count": 2,
   "metadata": {},
   "outputs": [],
   "source": [
    "db_insert = Redis(host='localhost', port=6379, db=8)\n",
    "db_complete = Redis(host='localhost', port=6379, db=6)"
   ]
  },
  {
   "cell_type": "code",
   "execution_count": 3,
   "metadata": {},
   "outputs": [],
   "source": [
    "alg, base_model, descriptor_length = 'MI1', 'resnet18', 256"
   ]
  },
  {
   "cell_type": "code",
   "execution_count": 4,
   "metadata": {},
   "outputs": [
    {
     "data": {
      "application/vnd.jupyter.widget-view+json": {
       "model_id": "826bd2fcce604c17886325171c69dfef",
       "version_major": 2,
       "version_minor": 0
      },
      "text/plain": [
       "HBox(children=(HTML(value='Loading'), FloatProgress(value=0.0, max=289155.0), HTML(value='')))"
      ]
     },
     "metadata": {},
     "output_type": "display_data"
    },
    {
     "name": "stdout",
     "output_type": "stream",
     "text": [
      "\n"
     ]
    }
   ],
   "source": [
    "descriptors_train, uuids_train, descriptors_test, uuids_test = list(), list(), list(), list()\n",
    "\n",
    "keys = db_complete.keys(f\"{base_model}+{descriptor_length}+{alg}*Ph1*\")\n",
    "total = len(keys)\n",
    "pbar = tqdm(np.arange(total), desc='Loading', total=total)\n",
    "for key in keys:\n",
    "    descriptor_bytes = db_complete.get(key)\n",
    "\n",
    "    if descriptor_bytes:\n",
    "        descriptor = pickle.loads(descriptor_bytes)\n",
    "        key_str = key.decode(\"utf-8\")\n",
    "        if key_str.find(\"az360\") != -1:# != -1 or key_str.find(\"az340\") != -1 or key_str.find(\"az020\") != -1:\n",
    "            uuids_train.append(key_str)\n",
    "            descriptors_train.append(descriptor)\n",
    "        else:\n",
    "            uuids_test.append(key_str)\n",
    "            descriptors_test.append(descriptor)\n",
    "    \n",
    "    pbar.update()\n",
    "pbar.close()\n",
    "\n",
    "#logger.info(f\"Loaded {len(descriptors_train)} to hash and {len(descriptors_test)} to search\")"
   ]
  },
  {
   "cell_type": "code",
   "execution_count": 92,
   "metadata": {},
   "outputs": [
    {
     "data": {
      "text/plain": [
       "(15939, 256)"
      ]
     },
     "execution_count": 92,
     "metadata": {},
     "output_type": "execute_result"
    }
   ],
   "source": [
    "d = np.asarray(descriptors_train)\n",
    "d.shape"
   ]
  },
  {
   "cell_type": "code",
   "execution_count": 93,
   "metadata": {},
   "outputs": [],
   "source": [
    "model = LOPQModel(V=16, M=16, subquantizer_clusters=512)\n",
    "model.fit(d)"
   ]
  },
  {
   "cell_type": "code",
   "execution_count": 94,
   "metadata": {},
   "outputs": [
    {
     "data": {
      "text/plain": [
       "<BarContainer object of 255 artists>"
      ]
     },
     "execution_count": 94,
     "metadata": {},
     "output_type": "execute_result"
    },
    {
     "data": {
      "image/png": "[encoded data removed]",
      "text/plain": [
       "<Figure size 432x288 with 1 Axes>"
      ]
     },
     "metadata": {
      "needs_background": "light"
     },
     "output_type": "display_data"
    }
   ],
   "source": [
    "h = get_cell_histogram(d, model)\n",
    "plt.bar(np.arange(h.shape[0]), h)"
   ]
  },
  {
   "cell_type": "code",
   "execution_count": 95,
   "metadata": {},
   "outputs": [],
   "source": [
    "searcher = LOPQSearcher(model)\n",
    "searcher.add_data(d, ids=uuids_train)"
   ]
  },
  {
   "cell_type": "code",
   "execution_count": 100,
   "metadata": {},
   "outputs": [
    {
     "data": {
      "text/plain": [
       "[Result(id='resnet18+256+MI1+PFP_Ph1_P0608_D01_S001_C2_az360_side1_0011', code=LOPQCode(coarse=(0, 8), fine=(296, 129, 34, 488, 457, 378, 77, 434, 452, 41, 406, 483, 395, 482, 57, 387)), dist=14.328370276517214),\n",
       " Result(id='resnet18+256+MI1+PFP_Ph1_P0537_D01_S001_C3_az360_side1_0011', code=LOPQCode(coarse=(0, 8), fine=(410, 325, 144, 243, 330, 186, 22, 419, 383, 232, 300, 221, 451, 17, 129, 72)), dist=19.192640152070837),\n",
       " Result(id='resnet18+256+MI1+PFP_Ph1_P0017_D01_S001_C2_az360_side1_0012', code=LOPQCode(coarse=(0, 8), fine=(315, 43, 131, 468, 272, 380, 302, 49, 214, 369, 370, 77, 76, 430, 57, 420)), dist=19.292271531071208),\n",
       " Result(id='resnet18+256+MI1+PFP_Ph1_P0480_D01_S001_C2_az360_side1_0015', code=LOPQCode(coarse=(0, 8), fine=(227, 331, 41, 27, 314, 154, 266, 7, 245, 116, 506, 32, 80, 376, 57, 277)), dist=19.409469891174616),\n",
       " Result(id='resnet18+256+MI1+PFP_Ph1_P0352_D01_S006_C2_az360_side1_0013', code=LOPQCode(coarse=(0, 8), fine=(191, 360, 42, 331, 431, 295, 192, 49, 50, 21, 468, 214, 111, 497, 191, 3)), dist=19.42850993080363),\n",
       " Result(id='resnet18+256+MI1+PFP_Ph1_P0030_D01_S001_C2_az360_side1_0005', code=LOPQCode(coarse=(0, 8), fine=(511, 62, 4, 508, 502, 221, 124, 136, 113, 311, 242, 163, 249, 133, 57, 435)), dist=19.445914744723016),\n",
       " Result(id='resnet18+256+MI1+PFP_Ph1_P0619_D01_S001_C1_az360_side1_0013', code=LOPQCode(coarse=(0, 8), fine=(92, 207, 394, 456, 332, 44, 151, 464, 101, 345, 63, 186, 213, 71, 89, 229)), dist=19.482373611890434),\n",
       " Result(id='resnet18+256+MI1+PFP_Ph1_P0471_D01_S001_C4_az360_side1_0004', code=LOPQCode(coarse=(0, 8), fine=(233, 489, 465, 289, 478, 370, 64, 422, 227, 509, 154, 14, 2, 124, 319, 370)), dist=19.50264450318219),\n",
       " Result(id='resnet18+256+MI1+PFP_Ph1_P0067_D01_S001_C2_az360_side1_0012', code=LOPQCode(coarse=(0, 8), fine=(238, 113, 212, 468, 476, 71, 259, 412, 323, 26, 63, 66, 385, 54, 217, 290)), dist=19.884792566133253),\n",
       " Result(id='resnet18+256+MI1+PFP_Ph1_P0080_D01_S001_C2_az360_side1_0015', code=LOPQCode(coarse=(0, 8), fine=(121, 171, 313, 427, 283, 135, 139, 85, 99, 40, 473, 410, 117, 423, 283, 255)), dist=19.93106210729458)]"
      ]
     },
     "execution_count": 100,
     "metadata": {},
     "output_type": "execute_result"
    }
   ],
   "source": [
    "list(searcher.search(descriptors_test[2000], with_dists=True)[0])"
   ]
  },
  {
   "cell_type": "code",
   "execution_count": 97,
   "metadata": {},
   "outputs": [
    {
     "data": {
      "text/plain": [
       "'resnet18+256+MI1+PFP_Ph1_P0619_D01_S001_C1_az140_side1_0011'"
      ]
     },
     "execution_count": 97,
     "metadata": {},
     "output_type": "execute_result"
    }
   ],
   "source": [
    "uuids_test[2000]"
   ]
  },
  {
   "cell_type": "code",
   "execution_count": 87,
   "metadata": {},
   "outputs": [
    {
     "data": {
      "text/plain": [
       "[<map at 0x7f2e06011ee0>, 64]"
      ]
     },
     "execution_count": 87,
     "metadata": {},
     "output_type": "execute_result"
    }
   ],
   "source": [
    "list(s.search(data[16]))"
   ]
  },
  {
   "cell_type": "code",
   "execution_count": 91,
   "metadata": {},
   "outputs": [
    {
     "name": "stderr",
     "output_type": "stream",
     "text": [
      "Fewer points (18) than dimensions (64) in rotation computation for cluster 0\n",
      "Fewer points (32) than dimensions (64) in rotation computation for cluster 1\n",
      "Fewer points (32) than dimensions (64) in rotation computation for cluster 2\n",
      "Fewer points (20) than dimensions (64) in rotation computation for cluster 3\n",
      "Fewer points (23) than dimensions (64) in rotation computation for cluster 4\n",
      "Fewer points (34) than dimensions (64) in rotation computation for cluster 5\n",
      "Fewer points (32) than dimensions (64) in rotation computation for cluster 7\n",
      "Fewer points (31) than dimensions (64) in rotation computation for cluster 0\n",
      "Fewer points (38) than dimensions (64) in rotation computation for cluster 1\n",
      "Fewer points (22) than dimensions (64) in rotation computation for cluster 2\n",
      "Fewer points (50) than dimensions (64) in rotation computation for cluster 3\n",
      "Fewer points (29) than dimensions (64) in rotation computation for cluster 4\n",
      "Fewer points (34) than dimensions (64) in rotation computation for cluster 5\n",
      "Fewer points (37) than dimensions (64) in rotation computation for cluster 6\n",
      "Fewer points (15) than dimensions (64) in rotation computation for cluster 7\n"
     ]
    },
    {
     "name": "stdout",
     "output_type": "stream",
     "text": [
      "[Result(id=0, code=(0, LOPQCode(coarse=(0, 7), fine=(16, 48, 23, 7, 30, 28, 29, 4)))), Result(id=153, code=(153, LOPQCode(coarse=(0, 7), fine=(33, 41, 14, 58, 45, 63, 10, 20)))), Result(id=159, code=(159, LOPQCode(coarse=(0, 0), fine=(50, 53, 38, 58, 4, 42, 39, 26)))), Result(id=183, code=(183, LOPQCode(coarse=(0, 4), fine=(16, 30, 40, 8, 59, 28, 63, 10)))), Result(id=113, code=(113, LOPQCode(coarse=(0, 6), fine=(5, 22, 47, 40, 29, 13, 46, 13)))), Result(id=248, code=(248, LOPQCode(coarse=(0, 3), fine=(9, 51, 34, 46, 61, 1, 42, 39)))), Result(id=123, code=(123, LOPQCode(coarse=(0, 3), fine=(46, 33, 24, 0, 1, 3, 50, 36)))), Result(id=47, code=(47, LOPQCode(coarse=(0, 0), fine=(21, 29, 17, 42, 6, 26, 59, 55)))), Result(id=89, code=(89, LOPQCode(coarse=(0, 6), fine=(45, 29, 30, 0, 19, 62, 47, 1)))), Result(id=204, code=(204, LOPQCode(coarse=(0, 4), fine=(34, 53, 0, 47, 7, 18, 7, 7))))]\n"
     ]
    }
   ],
   "source": [
    "data = np.random.rand(256, 128)\n",
    "\n",
    "model = LOPQModel(V=8, M=8, subquantizer_clusters=64)\n",
    "model.fit(data, n_init=1)\n",
    "\n",
    "\n",
    "searcher = LOPQSearcher(model)\n",
    "searcher.add_data(data, np.arange(256))\n",
    "print(list(searcher.search(data[0])[0]))"
   ]
  },
  {
   "cell_type": "code",
   "execution_count": 90,
   "metadata": {},
   "outputs": [],
   "source": [
    "from libs.lopq import LOPQModel, LOPQSearcher"
   ]
  },
  {
   "cell_type": "code",
   "execution_count": null,
   "metadata": {},
   "outputs": [],
   "source": []
  }
 ],
 "metadata": {
  "kernelspec": {
   "display_name": "Python 3",
   "language": "python",
   "name": "python3"
  },
  "language_info": {
   "codemirror_mode": {
    "name": "ipython",
    "version": 3
   },
   "file_extension": ".py",
   "mimetype": "text/x-python",
   "name": "python",
   "nbconvert_exporter": "python",
   "pygments_lexer": "ipython3",
   "version": "3.8.5"
  }
 },
 "nbformat": 4,
 "nbformat_minor": 4
}
