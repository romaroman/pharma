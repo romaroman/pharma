{
 "cells": [
  {
   "cell_type": "code",
   "execution_count": 160,
   "metadata": {},
   "outputs": [
    {
     "name": "stdout",
     "output_type": "stream",
     "text": [
      "The autoreload extension is already loaded. To reload it, use:\n",
      "  %reload_ext autoreload\n"
     ]
    }
   ],
   "source": [
    "import pandas as pd\n",
    "import matplotlib.pyplot as plt\n",
    "import numpy as np\n",
    "from pathlib import Path\n",
    "from scipy.stats import mode\n",
    "from tqdm.notebook import tqdm\n",
    "from p_tqdm import p_map\n",
    "\n",
    "%matplotlib inline\n",
    "%load_ext autoreload\n",
    "%autoreload 2"
   ]
  },
  {
   "cell_type": "code",
   "execution_count": null,
   "metadata": {},
   "outputs": [],
   "source": [
    "df_mser = pd.read_csv(\"../../search_results/LOPQ+MSER+resnet18+256+20.csv\", index_col=None)\n",
    "df_mi1 = pd.read_csv(\"../../search_results/LOPQ+MI1+resnet18+256+20.csv\", index_col=None)"
   ]
  },
  {
   "cell_type": "code",
   "execution_count": null,
   "metadata": {},
   "outputs": [],
   "source": [
    "def prepare_df(df, margin):\n",
    "    colunmns_mapping = {'0': 'uuid_actual', '1': 'uuid_predicted', '2': 'distance'}\n",
    "    df.rename(columns=colunmns_mapping, inplace=True)\n",
    "    df_ret = pd.DataFrame()\n",
    "    df_ret['distance'] = df['distance'].astype(np.float)\n",
    "    df_ret['uuid_actual'] = df['uuid_actual'].str.replace('S0010', 'S010').str[margin:]\n",
    "    df_ret['uuid_predicted'] = df['uuid_predicted'].str.replace('S0010', 'S010').str[margin:]\n",
    "    \n",
    "    df_ret['sample_actual'] = df_ret['uuid_actual'].str[4:31]\n",
    "    df_ret['package_actual'] = df_ret['uuid_actual'].str[9:22]\n",
    "    df_ret['descriptor_actual'] = df_ret['uuid_actual'].str[38:].astype(np.int)\n",
    "\n",
    "    df_ret['package_predicted'] = df_ret['uuid_predicted'].str[9:22]\n",
    "    return df_ret\n",
    "    "
   ]
  },
  {
   "cell_type": "code",
   "execution_count": null,
   "metadata": {},
   "outputs": [],
   "source": [
    "df_mser_prep = prepare_df(df_mser, 18)\n",
    "df_mi1_prep = prepare_df(df_mi1, 17)"
   ]
  },
  {
   "cell_type": "code",
   "execution_count": null,
   "metadata": {},
   "outputs": [],
   "source": [
    "df_mser_prep['algorithm'] = 'MSER'\n",
    "df_mi1_prep['algorithm'] = 'MI1'"
   ]
  },
  {
   "cell_type": "code",
   "execution_count": null,
   "metadata": {},
   "outputs": [],
   "source": [
    "df_combined = pd.concat([df_mser_prep, df_mi1_prep])"
   ]
  },
  {
   "cell_type": "code",
   "execution_count": null,
   "metadata": {},
   "outputs": [],
   "source": [
    "df_combined['match'] = df_combined['package_actual'] == df_combined['package_predicted']"
   ]
  },
  {
   "cell_type": "code",
   "execution_count": null,
   "metadata": {},
   "outputs": [],
   "source": [
    "df_combined.to_csv(\"../../search_results/LOPQ+Both+resnet18+256+20.csv\", index=False)"
   ]
  },
  {
   "cell_type": "code",
   "execution_count": 207,
   "metadata": {},
   "outputs": [],
   "source": [
    "df_combined[df_combined['sample_actual'].isin(df_combined.sample_actual.unique()[:20])].to_csv(\"../../search_results/LOPQ+Both+resnet18+256+20_partial.csv\", index=False)"
   ]
  }
 ],
 "metadata": {
  "kernelspec": {
   "display_name": "Python 3",
   "language": "python",
   "name": "python3"
  },
  "language_info": {
   "codemirror_mode": {
    "name": "ipython",
    "version": 3
   },
   "file_extension": ".py",
   "mimetype": "text/x-python",
   "name": "python",
   "nbconvert_exporter": "python",
   "pygments_lexer": "ipython3",
   "version": "3.8.5"
  }
 },
 "nbformat": 4,
 "nbformat_minor": 4
}
