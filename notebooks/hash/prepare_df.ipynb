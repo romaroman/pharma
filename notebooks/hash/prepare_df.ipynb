{
 "cells": [
  {
   "cell_type": "code",
   "execution_count": 2,
   "metadata": {},
   "outputs": [],
   "source": [
    "import pandas as pd\n",
    "import matplotlib.pyplot as plt\n",
    "import numpy as np\n",
    "from pathlib import Path\n",
    "from scipy.stats import mode\n",
    "from tqdm.notebook import tqdm\n",
    "from p_tqdm import p_map\n",
    "\n",
    "%matplotlib inline\n",
    "%load_ext autoreload\n",
    "%autoreload 2"
   ]
  },
  {
   "cell_type": "code",
   "execution_count": 16,
   "metadata": {},
   "outputs": [],
   "source": [
    "csv_folder = Path(\"/ndata/chaban/pharmapack/CSVs/lopq/\")"
   ]
  },
  {
   "cell_type": "code",
   "execution_count": 9,
   "metadata": {},
   "outputs": [],
   "source": [
    "df_mser = pd.read_csv(csv_folder / \"LOPQ:MSER:resnet50:512:20.csv\", index_col=None)\n",
    "df_mi1 = pd.read_csv(csv_folder / \"LOPQ:MI1:resnet50:512:20.csv\", index_col=None)"
   ]
  },
  {
   "cell_type": "code",
   "execution_count": 10,
   "metadata": {},
   "outputs": [],
   "source": [
    "def prepare_df(df, margin):\n",
    "    colunmns_mapping = {'0': 'uuid_actual', '1': 'uuid_predicted', '2': 'distance'}\n",
    "    df.rename(columns=colunmns_mapping, inplace=True)\n",
    "    df_ret = pd.DataFrame()\n",
    "    df_ret['distance'] = df['distance'].astype(np.float)\n",
    "    df_ret['uuid_actual'] = df['uuid_actual'].str[margin:]\n",
    "    df_ret['uuid_predicted'] = df['uuid_predicted'].str[margin:]\n",
    "    \n",
    "    df_ret['sample_actual'] = df_ret['uuid_actual'].str[4:31]\n",
    "    df_ret['package_actual'] = df_ret['uuid_actual'].str[9:22]\n",
    "    df_ret['descriptor_actual'] = df_ret['uuid_actual'].str[38:].astype(np.int)\n",
    "\n",
    "    df_ret['package_predicted'] = df_ret['uuid_predicted'].str[9:22]\n",
    "    return df_ret\n",
    "    "
   ]
  },
  {
   "cell_type": "code",
   "execution_count": 11,
   "metadata": {},
   "outputs": [],
   "source": [
    "df_mser_prep = prepare_df(df_mser, 18)\n",
    "df_mi1_prep = prepare_df(df_mi1, 17)"
   ]
  },
  {
   "cell_type": "code",
   "execution_count": 12,
   "metadata": {},
   "outputs": [],
   "source": [
    "df_mser_prep['algorithm'] = 'MSER'\n",
    "df_mi1_prep['algorithm'] = 'MI1'"
   ]
  },
  {
   "cell_type": "code",
   "execution_count": 13,
   "metadata": {},
   "outputs": [],
   "source": [
    "df_combined = pd.concat([df_mser_prep, df_mi1_prep])"
   ]
  },
  {
   "cell_type": "code",
   "execution_count": 14,
   "metadata": {},
   "outputs": [],
   "source": [
    "df_combined['match'] = df_combined['package_actual'] == df_combined['package_predicted']"
   ]
  },
  {
   "cell_type": "code",
   "execution_count": 23,
   "metadata": {},
   "outputs": [],
   "source": [
    "df_combined.to_csv(csv_folder / \"LOPQ:BOTH:resnet50:512:20.csv\", index=False)"
   ]
  },
  {
   "cell_type": "code",
   "execution_count": 24,
   "metadata": {},
   "outputs": [],
   "source": [
    "df_combined[df_combined['sample_actual'].isin(df_combined.sample_actual.unique()[:20])].to_csv(csv_folder / \"LOPQ:BOTH:resnet50:512:20:part.csv\", index=False)"
   ]
  },
  {
   "cell_type": "code",
   "execution_count": 25,
   "metadata": {},
   "outputs": [
    {
     "data": {
      "text/plain": [
       "(44635520, 9)"
      ]
     },
     "execution_count": 25,
     "metadata": {},
     "output_type": "execute_result"
    }
   ],
   "source": [
    "df_combined.shape"
   ]
  },
  {
   "cell_type": "code",
   "execution_count": 26,
   "metadata": {},
   "outputs": [
    {
     "data": {
      "text/plain": [
       "array(['MSER', 'MI1'], dtype=object)"
      ]
     },
     "execution_count": 26,
     "metadata": {},
     "output_type": "execute_result"
    }
   ],
   "source": [
    "df_combined.algorithm.unique()"
   ]
  },
  {
   "cell_type": "code",
   "execution_count": null,
   "metadata": {},
   "outputs": [],
   "source": []
  }
 ],
 "metadata": {
  "kernelspec": {
   "display_name": "Python 3",
   "language": "python",
   "name": "python3"
  },
  "language_info": {
   "codemirror_mode": {
    "name": "ipython",
    "version": 3
   },
   "file_extension": ".py",
   "mimetype": "text/x-python",
   "name": "python",
   "nbconvert_exporter": "python",
   "pygments_lexer": "ipython3",
   "version": "3.8.5"
  }
 },
 "nbformat": 4,
 "nbformat_minor": 4
}
