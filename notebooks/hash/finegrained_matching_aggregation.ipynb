{
 "cells": [
  {
   "cell_type": "code",
   "execution_count": 1,
   "metadata": {},
   "outputs": [],
   "source": [
    "import pandas as pd\n",
    "import matplotlib.pyplot as plt\n",
    "import numpy as np\n",
    "from pathlib import Path\n",
    "from scipy.stats import mode\n",
    "from tqdm.notebook import tqdm\n",
    "from itertools import product\n",
    "from multiprocessing import Pool\n",
    "\n",
    "%matplotlib inline\n",
    "%load_ext autoreload\n",
    "%autoreload 2"
   ]
  },
  {
   "cell_type": "code",
   "execution_count": 2,
   "metadata": {},
   "outputs": [],
   "source": [
    "df1 = pd.read_csv('../../finematching_result_phone1.csv', index_col=None)\n",
    "df2 = pd.read_csv('../../finematching_result_phone2.csv', index_col=None)\n",
    "df3 = pd.read_csv('../../finematching_result_phone3.csv', index_col=None)"
   ]
  },
  {
   "cell_type": "code",
   "execution_count": 3,
   "metadata": {},
   "outputs": [],
   "source": [
    "df = pd.concat([df1, df2, df3])"
   ]
  },
  {
   "cell_type": "code",
   "execution_count": 2,
   "metadata": {},
   "outputs": [],
   "source": [
    "df = pd.read_csv('../../finematching_result_new_phones123.csv', index_col=None)"
   ]
  },
  {
   "cell_type": "code",
   "execution_count": 4,
   "metadata": {},
   "outputs": [],
   "source": [
    "#df = pd.read_csv('../../finematching_result_phone1.csv', index_col=None)\n",
    "df = df.rename(columns={\n",
    "    '0':'sample_actual',\n",
    "    '1':'segmentation_algorithm',\n",
    "    '2':'package_actual',\n",
    "    '3':'phone',\n",
    "    '4':'package_candidate',\n",
    "    '5':'descriptor',\n",
    "    '6':'kp_amount_actual',\n",
    "    '7':'kp_amount_candidate',\n",
    "    '8':'matches_amount',\n",
    "    '9':'good_matches_amount',\n",
    "    '10':'ransac_matches_amount',\n",
    "})\n",
    "df.head(10)\n",
    "excluded_packages = ['0235_D01_S001', '0200_D01_S001', '0049_D01_S001', '0842_D01_S001', '0337_D01_S001', '0263_D01_S001', '0735_D01_S001', '0541_D01_S001', '0311_D01_S001']\n",
    "df = df[~df.package_actual.isin(excluded_packages)]"
   ]
  },
  {
   "cell_type": "code",
   "execution_count": 5,
   "metadata": {},
   "outputs": [
    {
     "data": {
      "text/html": [
       "<div>\n",
       "<style scoped>\n",
       "    .dataframe tbody tr th:only-of-type {\n",
       "        vertical-align: middle;\n",
       "    }\n",
       "\n",
       "    .dataframe tbody tr th {\n",
       "        vertical-align: top;\n",
       "    }\n",
       "\n",
       "    .dataframe thead th {\n",
       "        text-align: right;\n",
       "    }\n",
       "</style>\n",
       "<table border=\"1\" class=\"dataframe\">\n",
       "  <thead>\n",
       "    <tr style=\"text-align: right;\">\n",
       "      <th></th>\n",
       "      <th>sample_actual</th>\n",
       "      <th>segmentation_algorithm</th>\n",
       "      <th>package_actual</th>\n",
       "      <th>phone</th>\n",
       "      <th>package_candidate</th>\n",
       "      <th>descriptor</th>\n",
       "      <th>kp_amount_actual</th>\n",
       "      <th>kp_amount_candidate</th>\n",
       "      <th>matches_amount</th>\n",
       "      <th>good_matches_amount</th>\n",
       "      <th>ransac_matches_amount</th>\n",
       "    </tr>\n",
       "  </thead>\n",
       "  <tbody>\n",
       "    <tr>\n",
       "      <th>580935</th>\n",
       "      <td>Ph1_P0491_D02_S001_C3_az200</td>\n",
       "      <td>MSER</td>\n",
       "      <td>0491_D02_S001</td>\n",
       "      <td>2</td>\n",
       "      <td>0491_D01_S002</td>\n",
       "      <td>SIFT</td>\n",
       "      <td>2259.0</td>\n",
       "      <td>2293.0</td>\n",
       "      <td>2259.0</td>\n",
       "      <td>257.0</td>\n",
       "      <td>115.0</td>\n",
       "    </tr>\n",
       "    <tr>\n",
       "      <th>2260797</th>\n",
       "      <td>Ph3_P0189_D01_S001_C2_az280</td>\n",
       "      <td>MSER</td>\n",
       "      <td>0189_D01_S001</td>\n",
       "      <td>3</td>\n",
       "      <td>0836_D01_S001</td>\n",
       "      <td>SIFT</td>\n",
       "      <td>860.0</td>\n",
       "      <td>764.0</td>\n",
       "      <td>860.0</td>\n",
       "      <td>28.0</td>\n",
       "      <td>11.0</td>\n",
       "    </tr>\n",
       "    <tr>\n",
       "      <th>1512214</th>\n",
       "      <td>Ph2_P0424_D01_S001_C2_az240</td>\n",
       "      <td>MI1</td>\n",
       "      <td>0424_D01_S001</td>\n",
       "      <td>1</td>\n",
       "      <td>0580_D01_S001</td>\n",
       "      <td>SIFT</td>\n",
       "      <td>1657.0</td>\n",
       "      <td>3280.0</td>\n",
       "      <td>1657.0</td>\n",
       "      <td>68.0</td>\n",
       "      <td>15.0</td>\n",
       "    </tr>\n",
       "    <tr>\n",
       "      <th>920470</th>\n",
       "      <td>Ph1_P0812_D01_S001_C4_az160</td>\n",
       "      <td>MSER</td>\n",
       "      <td>0812_D01_S001</td>\n",
       "      <td>2</td>\n",
       "      <td>0812_D01_S001</td>\n",
       "      <td>SIFT</td>\n",
       "      <td>2632.0</td>\n",
       "      <td>2028.0</td>\n",
       "      <td>2632.0</td>\n",
       "      <td>462.0</td>\n",
       "      <td>359.0</td>\n",
       "    </tr>\n",
       "    <tr>\n",
       "      <th>2552913</th>\n",
       "      <td>Ph3_P0456_D01_S001_C2_az160</td>\n",
       "      <td>MSER</td>\n",
       "      <td>0456_D01_S001</td>\n",
       "      <td>1</td>\n",
       "      <td>0021_D01_S001</td>\n",
       "      <td>SIFT</td>\n",
       "      <td>734.0</td>\n",
       "      <td>1895.0</td>\n",
       "      <td>734.0</td>\n",
       "      <td>24.0</td>\n",
       "      <td>12.0</td>\n",
       "    </tr>\n",
       "    <tr>\n",
       "      <th>2008244</th>\n",
       "      <td>Ph2_P0888_D01_S001_C2_az080</td>\n",
       "      <td>MSER</td>\n",
       "      <td>0888_D01_S001</td>\n",
       "      <td>2</td>\n",
       "      <td>0133_D01_S001</td>\n",
       "      <td>SIFT</td>\n",
       "      <td>1243.0</td>\n",
       "      <td>1571.0</td>\n",
       "      <td>1243.0</td>\n",
       "      <td>88.0</td>\n",
       "      <td>22.0</td>\n",
       "    </tr>\n",
       "    <tr>\n",
       "      <th>814992</th>\n",
       "      <td>Ph1_P0711_D01_S001_C4_az020</td>\n",
       "      <td>MSER</td>\n",
       "      <td>0711_D01_S001</td>\n",
       "      <td>2</td>\n",
       "      <td>0202_D01_S001</td>\n",
       "      <td>SIFT</td>\n",
       "      <td>2676.0</td>\n",
       "      <td>2294.0</td>\n",
       "      <td>2676.0</td>\n",
       "      <td>142.0</td>\n",
       "      <td>39.0</td>\n",
       "    </tr>\n",
       "    <tr>\n",
       "      <th>1662543</th>\n",
       "      <td>Ph2_P0558_D01_S001_C1_az060</td>\n",
       "      <td>MSER</td>\n",
       "      <td>0558_D01_S001</td>\n",
       "      <td>1</td>\n",
       "      <td>0042_D01_S001</td>\n",
       "      <td>SIFT</td>\n",
       "      <td>981.0</td>\n",
       "      <td>3597.0</td>\n",
       "      <td>981.0</td>\n",
       "      <td>86.0</td>\n",
       "      <td>25.0</td>\n",
       "    </tr>\n",
       "    <tr>\n",
       "      <th>1275938</th>\n",
       "      <td>Ph2_P0213_D01_S001_C1_az320</td>\n",
       "      <td>MI1</td>\n",
       "      <td>0213_D01_S001</td>\n",
       "      <td>1</td>\n",
       "      <td>0670_D01_S001</td>\n",
       "      <td>SIFT</td>\n",
       "      <td>2299.0</td>\n",
       "      <td>1861.0</td>\n",
       "      <td>2299.0</td>\n",
       "      <td>51.0</td>\n",
       "      <td>16.0</td>\n",
       "    </tr>\n",
       "    <tr>\n",
       "      <th>2861730</th>\n",
       "      <td>Ph3_P0737_D01_S001_C3_az080</td>\n",
       "      <td>MSER</td>\n",
       "      <td>0737_D01_S001</td>\n",
       "      <td>1</td>\n",
       "      <td>0737_D01_S001</td>\n",
       "      <td>SIFT</td>\n",
       "      <td>812.0</td>\n",
       "      <td>1611.0</td>\n",
       "      <td>812.0</td>\n",
       "      <td>269.0</td>\n",
       "      <td>242.0</td>\n",
       "    </tr>\n",
       "  </tbody>\n",
       "</table>\n",
       "</div>"
      ],
      "text/plain": [
       "                       sample_actual segmentation_algorithm package_actual  \\\n",
       "580935   Ph1_P0491_D02_S001_C3_az200                   MSER  0491_D02_S001   \n",
       "2260797  Ph3_P0189_D01_S001_C2_az280                   MSER  0189_D01_S001   \n",
       "1512214  Ph2_P0424_D01_S001_C2_az240                    MI1  0424_D01_S001   \n",
       "920470   Ph1_P0812_D01_S001_C4_az160                   MSER  0812_D01_S001   \n",
       "2552913  Ph3_P0456_D01_S001_C2_az160                   MSER  0456_D01_S001   \n",
       "2008244  Ph2_P0888_D01_S001_C2_az080                   MSER  0888_D01_S001   \n",
       "814992   Ph1_P0711_D01_S001_C4_az020                   MSER  0711_D01_S001   \n",
       "1662543  Ph2_P0558_D01_S001_C1_az060                   MSER  0558_D01_S001   \n",
       "1275938  Ph2_P0213_D01_S001_C1_az320                    MI1  0213_D01_S001   \n",
       "2861730  Ph3_P0737_D01_S001_C3_az080                   MSER  0737_D01_S001   \n",
       "\n",
       "         phone package_candidate descriptor  kp_amount_actual  \\\n",
       "580935       2     0491_D01_S002       SIFT            2259.0   \n",
       "2260797      3     0836_D01_S001       SIFT             860.0   \n",
       "1512214      1     0580_D01_S001       SIFT            1657.0   \n",
       "920470       2     0812_D01_S001       SIFT            2632.0   \n",
       "2552913      1     0021_D01_S001       SIFT             734.0   \n",
       "2008244      2     0133_D01_S001       SIFT            1243.0   \n",
       "814992       2     0202_D01_S001       SIFT            2676.0   \n",
       "1662543      1     0042_D01_S001       SIFT             981.0   \n",
       "1275938      1     0670_D01_S001       SIFT            2299.0   \n",
       "2861730      1     0737_D01_S001       SIFT             812.0   \n",
       "\n",
       "         kp_amount_candidate  matches_amount  good_matches_amount  \\\n",
       "580935                2293.0          2259.0                257.0   \n",
       "2260797                764.0           860.0                 28.0   \n",
       "1512214               3280.0          1657.0                 68.0   \n",
       "920470                2028.0          2632.0                462.0   \n",
       "2552913               1895.0           734.0                 24.0   \n",
       "2008244               1571.0          1243.0                 88.0   \n",
       "814992                2294.0          2676.0                142.0   \n",
       "1662543               3597.0           981.0                 86.0   \n",
       "1275938               1861.0          2299.0                 51.0   \n",
       "2861730               1611.0           812.0                269.0   \n",
       "\n",
       "         ransac_matches_amount  \n",
       "580935                   115.0  \n",
       "2260797                   11.0  \n",
       "1512214                   15.0  \n",
       "920470                   359.0  \n",
       "2552913                   12.0  \n",
       "2008244                   22.0  \n",
       "814992                    39.0  \n",
       "1662543                   25.0  \n",
       "1275938                   16.0  \n",
       "2861730                  242.0  "
      ]
     },
     "execution_count": 5,
     "metadata": {},
     "output_type": "execute_result"
    }
   ],
   "source": [
    "df.sample(10)"
   ]
  },
  {
   "cell_type": "code",
   "execution_count": 6,
   "metadata": {},
   "outputs": [],
   "source": [
    "df = df[~df.ransac_matches_amount.isna()]"
   ]
  },
  {
   "cell_type": "code",
   "execution_count": 8,
   "metadata": {},
   "outputs": [],
   "source": [
    "df['package_match'] = (df.package_actual == df.package_candidate)\n",
    "df['ransac_kp_ratio'] = df.ransac_matches_amount / df.kp_amount_actual\n",
    "df['ransac_matches_ratio'] = df.ransac_matches_amount / df.good_matches_amount\n",
    "df['matches_kp_ratio'] = df.good_matches_amount / df.kp_amount_actual\n",
    "df['kp_ratio'] = df.kp_amount_actual / df.kp_amount_candidate"
   ]
  },
  {
   "cell_type": "code",
   "execution_count": 9,
   "metadata": {},
   "outputs": [
    {
     "data": {
      "text/plain": [
       "<matplotlib.legend.Legend at 0x7fc35bb11310>"
      ]
     },
     "execution_count": 9,
     "metadata": {},
     "output_type": "execute_result"
    },
    {
     "data": {
      "image/png": "[encoded data removed]",
      "text/plain": [
       "<Figure size 576x576 with 1 Axes>"
      ]
     },
     "metadata": {
      "needs_background": "light"
     },
     "output_type": "display_data"
    }
   ],
   "source": [
    "plt.figure(figsize=(8, 8))\n",
    "s = plt.hist(df[df.package_match].ransac_matches_ratio, alpha=0.5, bins=100, label='match')\n",
    "s = plt.hist(df[~df.package_match].ransac_matches_ratio, alpha=0.5, bins=100, label='~match')\n",
    "plt.title('DEGENSAC inliers ratio')\n",
    "plt.legend(loc='upper left')"
   ]
  },
  {
   "cell_type": "code",
   "execution_count": 10,
   "metadata": {},
   "outputs": [
    {
     "data": {
      "text/plain": [
       "<matplotlib.legend.Legend at 0x7fc34c941e20>"
      ]
     },
     "execution_count": 10,
     "metadata": {},
     "output_type": "execute_result"
    },
    {
     "data": {
      "image/png": "[encoded data removed]",
      "text/plain": [
       "<Figure size 576x576 with 1 Axes>"
      ]
     },
     "metadata": {
      "needs_background": "light"
     },
     "output_type": "display_data"
    }
   ],
   "source": [
    "plt.figure(figsize=(8, 8))\n",
    "s = plt.hist(df[df.package_match].matches_kp_ratio, alpha=0.5, bins=200, label='match')\n",
    "s = plt.hist(df[~df.package_match].matches_kp_ratio, alpha=0.5, bins=200, label='~match')\n",
    "#plt.yscale('log')\n",
    "#plt.xscale('log')\n",
    "plt.title('Matches to verification keypoints ratio')\n",
    "plt.legend(loc='upper left')"
   ]
  },
  {
   "cell_type": "code",
   "execution_count": null,
   "metadata": {},
   "outputs": [],
   "source": [
    "plt.figure(figsize=(8, 8))\n",
    "s = plt.hist(df[df.package_match].ransac_kp_ratio, alpha=0.5, bins=200, label='match')\n",
    "s = plt.hist(df[~df.package_match].ransac_kp_ratio, alpha=0.5, bins=200, label='~match')\n",
    "#plt.yscale('log')\n",
    "#plt.xscale('log')\n",
    "plt.title('Inliers to verification keypoints ratio')\n",
    "plt.legend(loc='upper left')"
   ]
  },
  {
   "cell_type": "code",
   "execution_count": null,
   "metadata": {},
   "outputs": [],
   "source": [
    "(df[~df.package_match].matches_kp_ratio < df[df.package_match].matches_kp_ratio.min()).value_counts()"
   ]
  },
  {
   "cell_type": "code",
   "execution_count": null,
   "metadata": {},
   "outputs": [],
   "source": [
    "list(product(df.segmentation_algorithm.unique(), df.descriptor.unique(), df.phone.unique()))"
   ]
  },
  {
   "cell_type": "code",
   "execution_count": 11,
   "metadata": {},
   "outputs": [
    {
     "name": "stdout",
     "output_type": "stream",
     "text": [
      "MSER 1 0.925236424195563\n",
      "MSER 2 0.9142443589641909\n",
      "MSER 3 0.9164337120085648\n",
      "MI1 1 0.947065934719277\n",
      "MI1 2 0.9363481431572273\n",
      "MI1 3 0.9383719086873811\n"
     ]
    }
   ],
   "source": [
    "accuracies = {}\n",
    "for algorithm, phone in product(df.segmentation_algorithm.unique(),df.phone.unique()):\n",
    "    df_sub = df[(df.segmentation_algorithm == algorithm) & (df.phone == phone)]\n",
    "    df_m = df_sub.loc[df_sub.groupby(\"sample_actual\")[\"ransac_kp_ratio\"].idxmax()]\n",
    "    ac = df_m['package_match'].value_counts().to_dict()[True] / df_sub.sample_actual.nunique()\n",
    "    print(algorithm, phone, ac)\n",
    "    accuracies[(algorithm, phone)] = ac"
   ]
  },
  {
   "cell_type": "code",
   "execution_count": null,
   "metadata": {},
   "outputs": [],
   "source": [
    "df_sub.shape"
   ]
  },
  {
   "cell_type": "code",
   "execution_count": null,
   "metadata": {},
   "outputs": [],
   "source": [
    "df_s = df[(df.descriptor == 'SIFT') & (df.segmentation_algorithm == 'MI1')]\n",
    "df_m = df_s.loc[df_s.groupby([\"sample_actual\", \"segmentation_algorithm\", 'descriptor'])[\"ransac_kp_ratio\"].idxmax()]\n",
    "df_p = df_m.pivot_table(index='sample_actual', columns='package_match', aggfunc='size', fill_value=0).reset_index()\n",
    "df_p"
   ]
  },
  {
   "cell_type": "code",
   "execution_count": null,
   "metadata": {},
   "outputs": [],
   "source": [
    "len(df_p[df_piv[True] > df_p[False]].index) / df_p.sample_actual.nunique()"
   ]
  },
  {
   "cell_type": "code",
   "execution_count": null,
   "metadata": {},
   "outputs": [],
   "source": [
    "1 - df[df.package_match].sample_actual.nunique() / df.sample_actual.nunique()"
   ]
  },
  {
   "cell_type": "code",
   "execution_count": null,
   "metadata": {},
   "outputs": [],
   "source": []
  },
  {
   "cell_type": "code",
   "execution_count": null,
   "metadata": {},
   "outputs": [],
   "source": [
    "df_piv"
   ]
  },
  {
   "cell_type": "code",
   "execution_count": null,
   "metadata": {},
   "outputs": [],
   "source": [
    ".shape"
   ]
  },
  {
   "cell_type": "code",
   "execution_count": null,
   "metadata": {},
   "outputs": [],
   "source": [
    "total_samples_amount = df.sample_actual.nunique()"
   ]
  },
  {
   "cell_type": "code",
   "execution_count": null,
   "metadata": {},
   "outputs": [],
   "source": [
    "df_sub = df[(df.segmentation_algorithm == 'MI1') & (df.descriptor == 'AKAZE')]"
   ]
  },
  {
   "cell_type": "code",
   "execution_count": null,
   "metadata": {},
   "outputs": [],
   "source": [
    "1 - (df[(df.descriptor == 'SIFT') & (~df.ransac_matches_amount.isna())].sample_actual.nunique() / total_samples_amount)"
   ]
  },
  {
   "cell_type": "code",
   "execution_count": null,
   "metadata": {},
   "outputs": [],
   "source": [
    "df[['sample_actual', 'package_actual', 'segmentation_algorithm', 'package_candidate', 'descriptor']].\\\n",
    "pivot_table(index=['sample_actual','package_actual'], columns=['segmentation_algorithm', 'descriptor'], values='package_candidate', aggfunc=lambda x: [s for s in x])"
   ]
  },
  {
   "cell_type": "code",
   "execution_count": null,
   "metadata": {},
   "outputs": [],
   "source": [
    "df.package_candidate.nunique()"
   ]
  },
  {
   "cell_type": "code",
   "execution_count": 49,
   "metadata": {},
   "outputs": [
    {
     "data": {
      "text/html": [
       "<div>\n",
       "<style scoped>\n",
       "    .dataframe tbody tr th:only-of-type {\n",
       "        vertical-align: middle;\n",
       "    }\n",
       "\n",
       "    .dataframe tbody tr th {\n",
       "        vertical-align: top;\n",
       "    }\n",
       "\n",
       "    .dataframe thead th {\n",
       "        text-align: right;\n",
       "    }\n",
       "</style>\n",
       "<table border=\"1\" class=\"dataframe\">\n",
       "  <thead>\n",
       "    <tr style=\"text-align: right;\">\n",
       "      <th></th>\n",
       "      <th>descriptor</th>\n",
       "      <th>sample_actual</th>\n",
       "      <th>package_actual</th>\n",
       "      <th>segmentation_algorithm</th>\n",
       "      <th>package_candidate</th>\n",
       "      <th>ransac_kp_ratio</th>\n",
       "      <th>ransac_matches_ratio</th>\n",
       "      <th>matches_kp_ratio</th>\n",
       "    </tr>\n",
       "  </thead>\n",
       "  <tbody>\n",
       "    <tr>\n",
       "      <th>911220</th>\n",
       "      <td>SIFT</td>\n",
       "      <td>Ph1_P0795_D01_S001_C1_az340</td>\n",
       "      <td>0795_D01_S001</td>\n",
       "      <td>MI1</td>\n",
       "      <td>0099_D01_S001</td>\n",
       "      <td>0.017871</td>\n",
       "      <td>0.389831</td>\n",
       "      <td>0.045843</td>\n",
       "    </tr>\n",
       "    <tr>\n",
       "      <th>2577082</th>\n",
       "      <td>SIFT</td>\n",
       "      <td>Ph3_P0456_D01_S001_C2_az180</td>\n",
       "      <td>0456_D01_S001</td>\n",
       "      <td>MI1</td>\n",
       "      <td>0003_D02_S001</td>\n",
       "      <td>0.022727</td>\n",
       "      <td>0.750000</td>\n",
       "      <td>0.030303</td>\n",
       "    </tr>\n",
       "    <tr>\n",
       "      <th>1828541</th>\n",
       "      <td>SIFT</td>\n",
       "      <td>Ph2_P0698_D01_S001_C2_az340</td>\n",
       "      <td>0698_D01_S001</td>\n",
       "      <td>MSER</td>\n",
       "      <td>0238_D01_S003</td>\n",
       "      <td>0.020228</td>\n",
       "      <td>0.217877</td>\n",
       "      <td>0.092842</td>\n",
       "    </tr>\n",
       "    <tr>\n",
       "      <th>310101</th>\n",
       "      <td>SIFT</td>\n",
       "      <td>Ph1_P0248_D01_S001_C4_az200</td>\n",
       "      <td>0248_D01_S001</td>\n",
       "      <td>MI1</td>\n",
       "      <td>0265_D01_S001</td>\n",
       "      <td>0.003711</td>\n",
       "      <td>0.287129</td>\n",
       "      <td>0.012924</td>\n",
       "    </tr>\n",
       "    <tr>\n",
       "      <th>1960963</th>\n",
       "      <td>SIFT</td>\n",
       "      <td>Ph2_P0825_D01_S001_C2_az280</td>\n",
       "      <td>0825_D01_S001</td>\n",
       "      <td>MI1</td>\n",
       "      <td>0728_D01_S001</td>\n",
       "      <td>0.029412</td>\n",
       "      <td>0.346154</td>\n",
       "      <td>0.084967</td>\n",
       "    </tr>\n",
       "    <tr>\n",
       "      <th>681924</th>\n",
       "      <td>SIFT</td>\n",
       "      <td>Ph1_P0578_D01_S001_C2_az080</td>\n",
       "      <td>0578_D01_S001</td>\n",
       "      <td>MSER</td>\n",
       "      <td>0578_D01_S001</td>\n",
       "      <td>0.399160</td>\n",
       "      <td>0.866788</td>\n",
       "      <td>0.460504</td>\n",
       "    </tr>\n",
       "    <tr>\n",
       "      <th>2764015</th>\n",
       "      <td>SIFT</td>\n",
       "      <td>Ph3_P0620_D01_S001_C1_az320</td>\n",
       "      <td>0620_D01_S001</td>\n",
       "      <td>MI1</td>\n",
       "      <td>0531_D01_S001</td>\n",
       "      <td>0.009319</td>\n",
       "      <td>0.180556</td>\n",
       "      <td>0.051613</td>\n",
       "    </tr>\n",
       "    <tr>\n",
       "      <th>1857757</th>\n",
       "      <td>SIFT</td>\n",
       "      <td>Ph2_P0727_D01_S001_C2_az220</td>\n",
       "      <td>0727_D01_S001</td>\n",
       "      <td>MSER</td>\n",
       "      <td>0588_D01_S001</td>\n",
       "      <td>0.011609</td>\n",
       "      <td>0.358974</td>\n",
       "      <td>0.032338</td>\n",
       "    </tr>\n",
       "    <tr>\n",
       "      <th>1973484</th>\n",
       "      <td>SIFT</td>\n",
       "      <td>Ph2_P0837_D01_S001_C1_az040</td>\n",
       "      <td>0837_D01_S001</td>\n",
       "      <td>MI1</td>\n",
       "      <td>0083_D01_S001</td>\n",
       "      <td>0.008615</td>\n",
       "      <td>0.351351</td>\n",
       "      <td>0.024520</td>\n",
       "    </tr>\n",
       "    <tr>\n",
       "      <th>1979583</th>\n",
       "      <td>SIFT</td>\n",
       "      <td>Ph2_P0843_D01_S001_C2_az040</td>\n",
       "      <td>0843_D01_S001</td>\n",
       "      <td>MSER</td>\n",
       "      <td>0223_D02_S001</td>\n",
       "      <td>0.018182</td>\n",
       "      <td>0.180995</td>\n",
       "      <td>0.100455</td>\n",
       "    </tr>\n",
       "  </tbody>\n",
       "</table>\n",
       "</div>"
      ],
      "text/plain": [
       "        descriptor                sample_actual package_actual  \\\n",
       "911220        SIFT  Ph1_P0795_D01_S001_C1_az340  0795_D01_S001   \n",
       "2577082       SIFT  Ph3_P0456_D01_S001_C2_az180  0456_D01_S001   \n",
       "1828541       SIFT  Ph2_P0698_D01_S001_C2_az340  0698_D01_S001   \n",
       "310101        SIFT  Ph1_P0248_D01_S001_C4_az200  0248_D01_S001   \n",
       "1960963       SIFT  Ph2_P0825_D01_S001_C2_az280  0825_D01_S001   \n",
       "681924        SIFT  Ph1_P0578_D01_S001_C2_az080  0578_D01_S001   \n",
       "2764015       SIFT  Ph3_P0620_D01_S001_C1_az320  0620_D01_S001   \n",
       "1857757       SIFT  Ph2_P0727_D01_S001_C2_az220  0727_D01_S001   \n",
       "1973484       SIFT  Ph2_P0837_D01_S001_C1_az040  0837_D01_S001   \n",
       "1979583       SIFT  Ph2_P0843_D01_S001_C2_az040  0843_D01_S001   \n",
       "\n",
       "        segmentation_algorithm package_candidate  ransac_kp_ratio  \\\n",
       "911220                     MI1     0099_D01_S001         0.017871   \n",
       "2577082                    MI1     0003_D02_S001         0.022727   \n",
       "1828541                   MSER     0238_D01_S003         0.020228   \n",
       "310101                     MI1     0265_D01_S001         0.003711   \n",
       "1960963                    MI1     0728_D01_S001         0.029412   \n",
       "681924                    MSER     0578_D01_S001         0.399160   \n",
       "2764015                    MI1     0531_D01_S001         0.009319   \n",
       "1857757                   MSER     0588_D01_S001         0.011609   \n",
       "1973484                    MI1     0083_D01_S001         0.008615   \n",
       "1979583                   MSER     0223_D02_S001         0.018182   \n",
       "\n",
       "         ransac_matches_ratio  matches_kp_ratio  \n",
       "911220               0.389831          0.045843  \n",
       "2577082              0.750000          0.030303  \n",
       "1828541              0.217877          0.092842  \n",
       "310101               0.287129          0.012924  \n",
       "1960963              0.346154          0.084967  \n",
       "681924               0.866788          0.460504  \n",
       "2764015              0.180556          0.051613  \n",
       "1857757              0.358974          0.032338  \n",
       "1973484              0.351351          0.024520  \n",
       "1979583              0.180995          0.100455  "
      ]
     },
     "execution_count": 49,
     "metadata": {},
     "output_type": "execute_result"
    }
   ],
   "source": [
    "df_sub = df[(df.phone == 1) & (df.descriptor == 'SIFT')][['descriptor', 'sample_actual', 'package_actual', 'segmentation_algorithm', 'package_candidate', 'ransac_kp_ratio', 'ransac_matches_ratio', 'matches_kp_ratio']]\n",
    "df_sub.sample(10)"
   ]
  },
  {
   "cell_type": "code",
   "execution_count": 25,
   "metadata": {},
   "outputs": [],
   "source": [
    "dfs = [x for _, x in df[df.phone == 1].groupby('sample_actual')]"
   ]
  },
  {
   "cell_type": "code",
   "execution_count": 26,
   "metadata": {},
   "outputs": [],
   "source": [
    "def calc_one(df):\n",
    "    return df.pivot_table(\n",
    "    index=['sample_actual', 'package_actual', 'package_candidate'],\n",
    "    columns=['segmentation_algorithm'], # , 'descriptor'\n",
    ").rank(\n",
    "    method='max', na_option='bottom', ascending=False\n",
    ").sum(axis=1).idxmin()"
   ]
  },
  {
   "cell_type": "code",
   "execution_count": 27,
   "metadata": {},
   "outputs": [],
   "source": [
    "pool = Pool(processes=42)\n",
    "res = pool.map(calc_one, dfs)\n",
    "pool.close()"
   ]
  },
  {
   "cell_type": "code",
   "execution_count": 28,
   "metadata": {},
   "outputs": [
    {
     "data": {
      "text/plain": [
       "0.9831797919762258"
      ]
     },
     "execution_count": 28,
     "metadata": {},
     "output_type": "execute_result"
    }
   ],
   "source": [
    "success = 0\n",
    "fail = []\n",
    "for r in res:\n",
    "    if r[1][:-5] == r[2][:-5]:\n",
    "        success += 1\n",
    "    else:\n",
    "        fail.append(r)\n",
    "success / len(res)"
   ]
  },
  {
   "cell_type": "code",
   "execution_count": 16,
   "metadata": {},
   "outputs": [
    {
     "data": {
      "text/plain": [
       "50477"
      ]
     },
     "execution_count": 16,
     "metadata": {},
     "output_type": "execute_result"
    }
   ],
   "source": [
    "len(res)"
   ]
  },
  {
   "cell_type": "code",
   "execution_count": 35,
   "metadata": {},
   "outputs": [
    {
     "data": {
      "text/plain": [
       "('Ph1_P0001_D01_S001_C4_az020', '0001_D01_S001', '0001_D01_S001')"
      ]
     },
     "execution_count": 35,
     "metadata": {},
     "output_type": "execute_result"
    }
   ],
   "source": [
    "dfs[0].pivot_table(\n",
    "    index=['sample_actual', 'package_actual', 'package_candidate'],\n",
    "    columns=['phone', 'segmentation_algorithm', 'descriptor'],\n",
    ").rank(\n",
    "    method='max', na_option='bottom', ascending=False\n",
    ").sum(axis=1).idxmin()"
   ]
  },
  {
   "cell_type": "code",
   "execution_count": null,
   "metadata": {},
   "outputs": [],
   "source": []
  }
 ],
 "metadata": {
  "kernelspec": {
   "display_name": "Python 3",
   "language": "python",
   "name": "python3"
  },
  "language_info": {
   "codemirror_mode": {
    "name": "ipython",
    "version": 3
   },
   "file_extension": ".py",
   "mimetype": "text/x-python",
   "name": "python",
   "nbconvert_exporter": "python",
   "pygments_lexer": "ipython3",
   "version": "3.8.5"
  }
 },
 "nbformat": 4,
 "nbformat_minor": 4
}
