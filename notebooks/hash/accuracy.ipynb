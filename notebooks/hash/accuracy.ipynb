{
 "cells": [
  {
   "cell_type": "code",
   "execution_count": 1,
   "metadata": {},
   "outputs": [],
   "source": [
    "import pandas as pd\n",
    "import matplotlib.pyplot as plt\n",
    "import numpy as np\n",
    "from pathlib import Path\n",
    "from scipy.stats import mode\n",
    "from tqdm.notebook import tqdm\n",
    "from p_tqdm import p_map"
   ]
  },
  {
   "cell_type": "code",
   "execution_count": 12,
   "metadata": {},
   "outputs": [],
   "source": [
    "fill_value = 100\n",
    "def calc_one(path):\n",
    "    df = pd.read_csv(path, index_col=None)    \n",
    "    df_piv = df.pivot_table(index='id_predicted', columns='index_actual', values='score', fill_value=fill_value, aggfunc=lambda x: [s for s in x])\n",
    "\n",
    "    scores = df_piv.to_numpy().T\n",
    "    d = dict()\n",
    "    for i, score in enumerate(scores, start=1):\n",
    "        score = [s if s != fill_value else [fill_value] for s in score]\n",
    "        metrics = [\n",
    "            (si, len(x), np.mean(x), sum(x), np.median(x)) for si, x in enumerate(score)\n",
    "        ]\n",
    "        metric_len = max(metrics, key=lambda x: x[1])[0]\n",
    "        metric_mean = min(metrics, key=lambda x: x[2])[0]\n",
    "        metric_sum = min(metrics, key=lambda x: x[3])[0]\n",
    "        metric_median = min(metrics, key=lambda x: x[4])[0]\n",
    "\n",
    "        m = mode([metric_len, metric_len, metric_mean, metric_sum, metric_median]).mode[0]\n",
    "        if m in d.keys():\n",
    "            d[m] +=1\n",
    "        else:\n",
    "            d[m] = 1\n",
    "    predicted = df_piv.index[max(d, key=d.get)]\n",
    "    actual = path.stem[4:13]\n",
    "    return path.parent.stem.split('+') + [path.stem, actual, predicted, actual == predicted] "
   ]
  },
  {
   "cell_type": "code",
   "execution_count": 6,
   "metadata": {},
   "outputs": [],
   "source": [
    "items = list(Path('/home/chaban/pharmapack-recognition/separate/').glob('**/*.csv'))"
   ]
  },
  {
   "cell_type": "code",
   "execution_count": 13,
   "metadata": {},
   "outputs": [
    {
     "data": {
      "application/vnd.jupyter.widget-view+json": {
       "model_id": "0ed76a1173d04344b7ec34c48b13d6ba",
       "version_major": 2,
       "version_minor": 0
      },
      "text/plain": [
       "HBox(children=(HTML(value=''), FloatProgress(value=0.0, max=9.0), HTML(value='')))"
      ]
     },
     "metadata": {},
     "output_type": "display_data"
    },
    {
     "name": "stdout",
     "output_type": "stream",
     "text": [
      "\n"
     ]
    }
   ],
   "source": [
    "res = p_map(calc_one, items[:9], num_cpus=3)\n",
    "pd.DataFrame(res).to_csv('loc.csv')"
   ]
  },
  {
   "cell_type": "code",
   "execution_count": null,
   "metadata": {},
   "outputs": [],
   "source": []
  }
 ],
 "metadata": {
  "kernelspec": {
   "display_name": "Python 3",
   "language": "python",
   "name": "python3"
  },
  "language_info": {
   "codemirror_mode": {
    "name": "ipython",
    "version": 3
   },
   "file_extension": ".py",
   "mimetype": "text/x-python",
   "name": "python",
   "nbconvert_exporter": "python",
   "pygments_lexer": "ipython3",
   "version": "3.8.5"
  }
 },
 "nbformat": 4,
 "nbformat_minor": 4
}
