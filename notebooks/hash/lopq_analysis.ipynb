{
 "cells": [
  {
   "cell_type": "code",
   "execution_count": 31,
   "metadata": {},
   "outputs": [],
   "source": [
    "import pandas as pd\n",
    "import matplotlib.pyplot as plt\n",
    "import numpy as np\n",
    "from pathlib import Path\n",
    "from tqdm.notebook import tqdm\n",
    "%matplotlib inline"
   ]
  },
  {
   "cell_type": "code",
   "execution_count": 2,
   "metadata": {},
   "outputs": [],
   "source": [
    "df_orig = pd.read_csv('../../lopq/lopq+MI1+resnet18+256.csv', index_col=None)\n",
    "df_orig['0'] = df_orig['0'].str.replace('S0010', 'S010').str[17:]\n",
    "df_orig['1'] = df_orig['1'].str.replace('S0010', 'S010').str[17:]"
   ]
  },
  {
   "cell_type": "code",
   "execution_count": 42,
   "metadata": {},
   "outputs": [],
   "source": [
    "df = pd.DataFrame()\n",
    "\n",
    "df['phone_actual'] = df_orig['0'].str[6:7].astype(np.int)\n",
    "df['id_actual'] = df_orig['0'].str[9:22]\n",
    "df['angle_actual'] = df_orig['0'].str[28:31].astype(np.int)\n",
    "df['index_actual'] = df_orig['0'].str[38:].astype(np.int)\n",
    "\n",
    "df['id_predicted'] = df_orig['1'].str[9:22]\n",
    "\n",
    "df['score'] = df_orig['2'].astype(np.float)\n",
    "\n",
    "df['id_match'] = df['id_actual'] == df['id_predicted']\n",
    "df_acc = df[['id_actual', 'phone_actual', 'angle_actual', 'index_actual', 'id_predicted', 'id_match']]\n",
    "df_vc = df_acc.groupby(['id_actual', 'phone_actual', 'angle_actual', 'id_predicted'])['id_match'].value_counts()\n",
    "df_vc = df_vc.rename_axis(['id_actual', 'phone_actual', 'angle_actual', 'id_predicted', 'id_match']).to_frame('counts').reset_index()\n",
    "total_samples = df_vc.set_index(['id_actual', 'phone_actual', 'angle_actual']).index.unique().__len__()\n",
    "nomiss_samples = df_vc[df_vc.id_match == True].index.__len__()\n",
    "miss_chance = 100 - nomiss_samples / (total_samples) * 100"
   ]
  },
  {
   "cell_type": "code",
   "execution_count": 68,
   "metadata": {},
   "outputs": [],
   "source": [
    "ss = df_vc.groupby(['id_actual', 'phone_actual', 'angle_actual']).sum().reset_index()"
   ]
  },
  {
   "cell_type": "code",
   "execution_count": 71,
   "metadata": {},
   "outputs": [
    {
     "data": {
      "text/plain": [
       "0131_D01_S001    24\n",
       "0104_D01_S001    13\n",
       "0174_D01_S001    12\n",
       "0715_D01_S001    12\n",
       "0309_D01_S001     9\n",
       "0457_D01_S001     8\n",
       "0842_D01_S001     8\n",
       "0235_D01_S001     8\n",
       "0434_D01_S001     6\n",
       "0102_D01_S001     6\n",
       "0621_D01_S001     5\n",
       "0391_D01_S001     5\n",
       "0751_D01_S001     5\n",
       "0792_D01_S001     4\n",
       "0887_D01_S001     4\n",
       "0554_D01_S001     4\n",
       "0175_D01_S001     4\n",
       "0822_D01_S001     3\n",
       "0363_D01_S001     3\n",
       "0061_D01_S001     2\n",
       "0827_D01_S001     2\n",
       "0529_D01_S001     2\n",
       "0471_D01_S001     2\n",
       "0279_D01_S001     2\n",
       "0692_D01_S001     2\n",
       "0304_D01_S001     1\n",
       "0868_D01_S001     1\n",
       "0049_D01_S001     1\n",
       "0325_D01_S001     1\n",
       "0475_D01_S001     1\n",
       "0008_D01_S001     1\n",
       "0382_D01_S001     1\n",
       "0276_D01_S001     1\n",
       "0458_D01_S001     1\n",
       "0472_D01_S002     1\n",
       "0362_D01_S001     1\n",
       "0635_D01_S001     1\n",
       "0498_D01_S001     1\n",
       "0781_D01_S001     1\n",
       "0469_D01_S001     1\n",
       "0016_D01_S001     1\n",
       "0727_D01_S001     1\n",
       "0400_D01_S001     1\n",
       "0732_D01_S002     1\n",
       "Name: id_actual, dtype: int64"
      ]
     },
     "execution_count": 71,
     "metadata": {},
     "output_type": "execute_result"
    }
   ],
   "source": [
    "ss[ss.id_match == 0].id_actual.value_counts()"
   ]
  },
  {
   "cell_type": "code",
   "execution_count": 73,
   "metadata": {},
   "outputs": [],
   "source": [
    "df_acc = pd.read_csv('../../accuracy_lopq_fs.csv', index_col=None)"
   ]
  },
  {
   "cell_type": "code",
   "execution_count": 74,
   "metadata": {},
   "outputs": [
    {
     "data": {
      "text/plain": [
       "True     47644\n",
       "False     3331\n",
       "Name: 3, dtype: int64"
      ]
     },
     "execution_count": 74,
     "metadata": {},
     "output_type": "execute_result"
    }
   ],
   "source": [
    "df_acc['3'].value_counts()"
   ]
  },
  {
   "cell_type": "code",
   "execution_count": 35,
   "metadata": {},
   "outputs": [
    {
     "data": {
      "image/png": "[encoded data removed]",
      "text/plain": [
       "<Figure size 432x288 with 1 Axes>"
      ]
     },
     "metadata": {
      "needs_background": "light"
     },
     "output_type": "display_data"
    }
   ],
   "source": [
    "s = plt.hist(df[(df.id_actual == df.id_predicted)&(df.score < 20)].score.to_numpy(), bins=300)"
   ]
  },
  {
   "cell_type": "code",
   "execution_count": 36,
   "metadata": {},
   "outputs": [
    {
     "data": {
      "image/png": "[encoded data removed]",
      "text/plain": [
       "<Figure size 432x288 with 1 Axes>"
      ]
     },
     "metadata": {
      "needs_background": "light"
     },
     "output_type": "display_data"
    }
   ],
   "source": [
    "s = plt.hist(df[(df.id_actual != df.id_predicted)&(df.score < 20)].score.to_numpy(), bins=300)"
   ]
  },
  {
   "cell_type": "code",
   "execution_count": 72,
   "metadata": {},
   "outputs": [
    {
     "data": {
      "text/plain": [
       "0.34193408925659696"
      ]
     },
     "execution_count": 72,
     "metadata": {},
     "output_type": "execute_result"
    }
   ],
   "source": [
    "miss_chance"
   ]
  },
  {
   "cell_type": "code",
   "execution_count": null,
   "metadata": {},
   "outputs": [],
   "source": []
  }
 ],
 "metadata": {
  "kernelspec": {
   "display_name": "Python 3",
   "language": "python",
   "name": "python3"
  },
  "language_info": {
   "codemirror_mode": {
    "name": "ipython",
    "version": 3
   },
   "file_extension": ".py",
   "mimetype": "text/x-python",
   "name": "python",
   "nbconvert_exporter": "python",
   "pygments_lexer": "ipython3",
   "version": "3.8.5"
  }
 },
 "nbformat": 4,
 "nbformat_minor": 4
}
